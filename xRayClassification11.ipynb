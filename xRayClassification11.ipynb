{
 "cells": [
  {
   "cell_type": "markdown",
   "metadata": {},
   "source": [
    "## X-Ray PNEUMONIA CLASSIFICATION"
   ]
  },
  {
   "cell_type": "markdown",
   "metadata": {},
   "source": [
    "### Problem Statement"
   ]
  },
  {
   "cell_type": "markdown",
   "metadata": {},
   "source": [
    "##### Pneumonia is a severe lung infection that can be life-threatening if not diagnosed and treated promptly. Accurate and early detection of pneumonia using chest X-rays is crucial for effective treatment. However, several real-world challenges make this task difficult:\n",
    "\n",
    "* **High Volume of Cases:** Radiologists often face a high volume of X-ray images, making it challenging to review each image thoroughly, especially in high-demand settings like hospitals and clinics.\n",
    "\n",
    "* **Diagnostic Accuracy:** Even experienced radiologists may miss subtle signs of pneumonia or confuse them with other conditions, leading to diagnostic errors.\n",
    "\n",
    "##### To address these challenges, Leveraging a machine learning model using Convolutional Neural Networks (CNNs) to accurately classify pneumonia in chest X-ray images. This model will differentiate between normal lung images and those showing signs of pneumonia, providing an automated and consistent diagnostic tool.\n"
   ]
  },
  {
   "cell_type": "markdown",
   "metadata": {},
   "source": [
    "### Data Description\n",
    "\n",
    "* **Dataset:** Utilized the publicly available Chest X-ray Images (Pneumonia) dataset from Kaggle. \n",
    "\n",
    "* **Features:** The dataset contains three subfolders train,test and val. Each subfolder has two classes Normal and Pneumonia which contains images files respectively.\n",
    "\n",
    "* **Target Variable:** The target variable is the presence or absence of pneumonia in the chest X-ray images\n",
    "\n",
    "* **Obervations:** This is a an imbalanced dataset , consisting of a significant difference of total image files in normal and pneumonia classes. And for this I will be using SMOTE technique upscale the minority class. "
   ]
  },
  {
   "cell_type": "markdown",
   "metadata": {},
   "source": [
    "### Importing Libraries"
   ]
  },
  {
   "cell_type": "markdown",
   "metadata": {},
   "source": [
    "##### Imported all the required libraries below for this project."
   ]
  },
  {
   "cell_type": "code",
   "execution_count": 2,
   "metadata": {},
   "outputs": [],
   "source": [
    "import os \n",
    "import cv2\n",
    "import numpy as np\n",
    "import matplotlib.pyplot as plt\n",
    "import seaborn as sns\n",
    "import tensorflow as tf\n",
    "from imblearn.over_sampling import SMOTE\n",
    "from tensorflow.keras import layers \n",
    "from tensorflow.keras.models import Sequential , load_model\n",
    "from tensorflow.keras.layers import Conv2D , MaxPooling2D , Dense , Dropout , Flatten , BatchNormalization\n",
    "from tensorflow.keras.callbacks import ModelCheckpoint, EarlyStopping, ReduceLROnPlateau"
   ]
  },
  {
   "cell_type": "markdown",
   "metadata": {},
   "source": [
    "### First Approach\n",
    "\n",
    "#### Using SMOTE for imbalanced dataset"
   ]
  },
  {
   "cell_type": "markdown",
   "metadata": {},
   "source": [
    "##### Making lists and printing the filenames in the \"Pneumonia Dataset/train/\" directory. This is Training Directory which will be later used for training and validation purpose."
   ]
  },
  {
   "cell_type": "code",
   "execution_count": 2,
   "metadata": {},
   "outputs": [
    {
     "name": "stdout",
     "output_type": "stream",
     "text": [
      "['NORMAL', 'PNEUMONIA']\n"
     ]
    }
   ],
   "source": [
    "trainPath = \"Pneumonia Dataset/train/\"\n",
    "train_dataset_directory = os.listdir(trainPath)\n",
    "print(train_dataset_directory)"
   ]
  },
  {
   "cell_type": "markdown",
   "metadata": {},
   "source": [
    "\"train_dataset_directory\" have returned two classes \"NORMAL\" and \"PNEUMONIA\" in list format. This two classes will be used for classification."
   ]
  },
  {
   "cell_type": "markdown",
   "metadata": {},
   "source": [
    "."
   ]
  },
  {
   "cell_type": "markdown",
   "metadata": {},
   "source": [
    "##### Making lists and printing the filenames in the \"Pneumonia Dataset/test/\" directory. This is Testing Directory which will be later used for testing purpose."
   ]
  },
  {
   "cell_type": "code",
   "execution_count": 3,
   "metadata": {},
   "outputs": [
    {
     "name": "stdout",
     "output_type": "stream",
     "text": [
      "['NORMAL', 'PNEUMONIA']\n"
     ]
    }
   ],
   "source": [
    "test_dataset_directory = os.listdir(\"Pneumonia Dataset/test/\")\n",
    "print(test_dataset_directory)"
   ]
  },
  {
   "cell_type": "markdown",
   "metadata": {},
   "source": [
    "\"test_dataset_directory\" have returned two classes \"NORMAL\" and \"PNEUMONIA\" in list format. This two classes will be used for testing the model accuracy."
   ]
  },
  {
   "cell_type": "markdown",
   "metadata": {},
   "source": [
    "."
   ]
  },
  {
   "cell_type": "markdown",
   "metadata": {},
   "source": [
    "##### Preparing Image Data and Labels Using CV2\n",
    "\n",
    "* Initializing data and target lists.\n",
    "\n",
    "* Looping through image directories.\n",
    "\n",
    "* Reading and resizing images.\n",
    "\n",
    "* Appending images and their labels to the respective lists.\n"
   ]
  },
  {
   "cell_type": "code",
   "execution_count": 4,
   "metadata": {},
   "outputs": [],
   "source": [
    "train_data = []\n",
    "train_target = []\n",
    "\n",
    "labels = ['NORMAL','PNEUMONIA']\n",
    "for i in labels:\n",
    "    path = os.path.join(trainPath,i)\n",
    "    for img in os.listdir(path):\n",
    "        one_image=cv2.imread(os.path.join(path,img))\n",
    "        if one_image is not None :\n",
    "            resize_img = cv2.resize(one_image,(100,100))\n",
    "            train_data.append(resize_img)\n",
    "            train_target.append(labels.index(i))\n"
   ]
  },
  {
   "cell_type": "markdown",
   "metadata": {},
   "source": [
    "##### An insight into \"train_data\""
   ]
  },
  {
   "cell_type": "code",
   "execution_count": 5,
   "metadata": {},
   "outputs": [
    {
     "name": "stdout",
     "output_type": "stream",
     "text": [
      "Length of 'train_data' is :- 5216\n",
      "Type of 'train_data' is :- <class 'list'>\n"
     ]
    }
   ],
   "source": [
    "print(f\"Length of 'train_data' is :- {len(train_data)}\")\n",
    "print(f\"Type of 'train_data' is :- {type(train_data)}\")"
   ]
  },
  {
   "cell_type": "markdown",
   "metadata": {},
   "source": [
    "##### An insight into \"train_target\""
   ]
  },
  {
   "cell_type": "code",
   "execution_count": 9,
   "metadata": {},
   "outputs": [
    {
     "name": "stdout",
     "output_type": "stream",
     "text": [
      "Length of 'train_target' is :- 5216\n",
      "Type of 'train_target' is :- <class 'list'>\n"
     ]
    }
   ],
   "source": [
    "print(f\"Length of 'train_target' is :- {len(train_target)}\")\n",
    "print(f\"Type of 'train_target' is :- {type(train_target)}\")"
   ]
  },
  {
   "cell_type": "markdown",
   "metadata": {},
   "source": [
    "."
   ]
  },
  {
   "cell_type": "markdown",
   "metadata": {},
   "source": [
    "##### Here printing the number of image files in the classes \"NORMAL\" and \"PNEUMONIA from the Train Dataset Directory."
   ]
  },
  {
   "cell_type": "code",
   "execution_count": 10,
   "metadata": {},
   "outputs": [
    {
     "name": "stdout",
     "output_type": "stream",
     "text": [
      "NORMAL Train Folder has 1341 Images \n",
      "PNEUMONIA Train Folder has 3875 Images \n",
      "\n",
      "Train Images Folder Has 5216 Images\n"
     ]
    }
   ],
   "source": [
    "count = 0\n",
    "\n",
    "for subFolder in train_dataset_directory:\n",
    "    files_Folder = list(os.listdir(\"Pneumonia Dataset/train/\"+subFolder))\n",
    "    print(subFolder+\" Train Folder has \"+str(len(files_Folder))+\" Images \")\n",
    "    count = count + len(files_Folder)\n",
    "print(end=\"\\n\")\n",
    "print(\"Train Images Folder Has \"+str(count)+\" Images\")"
   ]
  },
  {
   "cell_type": "markdown",
   "metadata": {},
   "source": [
    "Observation :- The \"NORMAL\" class with 1341 Images has less files compared to \"PNEUMONIA\" class with 3875 Images. And the total number for image files in Train Dataset Directory is 5216."
   ]
  },
  {
   "cell_type": "markdown",
   "metadata": {},
   "source": [
    "."
   ]
  },
  {
   "cell_type": "markdown",
   "metadata": {},
   "source": [
    "##### Here printing the number of image files in the classes \"NORMAL\" and \"PNEUMONIA from the Test Dataset Directory."
   ]
  },
  {
   "cell_type": "code",
   "execution_count": 11,
   "metadata": {},
   "outputs": [
    {
     "name": "stdout",
     "output_type": "stream",
     "text": [
      "NORMAL Test Folder has 234 Images \n",
      "PNEUMONIA Test Folder has 390 Images \n",
      "\n",
      "Test Images Folder Has 624 Images\n"
     ]
    }
   ],
   "source": [
    "count = 0\n",
    "\n",
    "for subFolder in test_dataset_directory:\n",
    "    files_Folder = list(os.listdir(\"Pneumonia Dataset/test/\"+subFolder))\n",
    "    print(subFolder+\" Test Folder has \"+str(len(files_Folder))+\" Images \")\n",
    "    count = count + len(files_Folder)\n",
    "print(end=\"\\n\")\n",
    "print(\"Test Images Folder Has \"+str(count)+\" Images\")"
   ]
  },
  {
   "cell_type": "markdown",
   "metadata": {},
   "source": [
    "Observation :- The \"NORMAL\" class with 234 Images has less files compared to \"PNEUMONIA\" class with 390 Images. And the total number for image files in Test Dataset Directory is 624."
   ]
  },
  {
   "cell_type": "markdown",
   "metadata": {},
   "source": [
    "."
   ]
  },
  {
   "cell_type": "markdown",
   "metadata": {},
   "source": [
    "##### Sets directory path, image size, and batch size for training data"
   ]
  },
  {
   "cell_type": "code",
   "execution_count": 12,
   "metadata": {},
   "outputs": [],
   "source": [
    "train_base_dir = \"Pneumonia Dataset/train/\"\n",
    "train_img_size = 100\n",
    "train_batch = 32"
   ]
  },
  {
   "cell_type": "markdown",
   "metadata": {},
   "source": [
    "### image_dataset_from_directory\n",
    "\n",
    "* It loads images from a directory into a TensorFlow dataset for training or evaluation."
   ]
  },
  {
   "cell_type": "markdown",
   "metadata": {},
   "source": [
    "Using \"image_dataset_from_directory\" for loading image files from \"train_base_dir\" and applying \"batch_size\" and \"image_size\" and saving it into \"train_load_Dataset\""
   ]
  },
  {
   "cell_type": "code",
   "execution_count": 13,
   "metadata": {},
   "outputs": [
    {
     "name": "stdout",
     "output_type": "stream",
     "text": [
      "Found 5216 files belonging to 2 classes.\n"
     ]
    }
   ],
   "source": [
    "train_load_Dataset = tf.keras.utils.image_dataset_from_directory(train_base_dir, seed = 123,\n",
    "batch_size=train_batch  , image_size=(train_img_size,train_img_size))"
   ]
  },
  {
   "cell_type": "code",
   "execution_count": 14,
   "metadata": {},
   "outputs": [
    {
     "name": "stdout",
     "output_type": "stream",
     "text": [
      " Length of train_load_Dataset is :- 163\n"
     ]
    }
   ],
   "source": [
    "print(f\" Length of train_load_Dataset is :- {len(train_load_Dataset)}\") "
   ]
  },
  {
   "cell_type": "code",
   "execution_count": 15,
   "metadata": {},
   "outputs": [],
   "source": [
    "trainClassNames = train_load_Dataset.class_names"
   ]
  },
  {
   "cell_type": "code",
   "execution_count": 16,
   "metadata": {},
   "outputs": [
    {
     "name": "stdout",
     "output_type": "stream",
     "text": [
      "['NORMAL', 'PNEUMONIA']\n"
     ]
    }
   ],
   "source": [
    "print(trainClassNames)"
   ]
  },
  {
   "cell_type": "code",
   "execution_count": 17,
   "metadata": {},
   "outputs": [
    {
     "name": "stdout",
     "output_type": "stream",
     "text": [
      " Type of trainClassNames is :- <class 'list'>\n"
     ]
    }
   ],
   "source": [
    "print(f\" Type of trainClassNames is :- {type(trainClassNames)}\")"
   ]
  },
  {
   "cell_type": "markdown",
   "metadata": {},
   "source": [
    "An insight into \"train_load_Dataset\" gives us that the length is 163 , which means that the dataset contains 163 batches of images \"(163*32 = 5216)\" . \"class_names\" returned both the two classes \"NORMAL\" and \"PNEUMONIA\" in list format. "
   ]
  },
  {
   "cell_type": "markdown",
   "metadata": {},
   "source": [
    "."
   ]
  },
  {
   "cell_type": "markdown",
   "metadata": {},
   "source": [
    "##### Printing the shape and content of the first batch of images and labels from the \"train_load_Dataset\"."
   ]
  },
  {
   "cell_type": "code",
   "execution_count": 18,
   "metadata": {},
   "outputs": [
    {
     "name": "stdout",
     "output_type": "stream",
     "text": [
      "Image batch shape: (32, 100, 100, 3)\n",
      "Label batch shape: (32,)\n",
      "Labels: [0 1 1 1 1 1 1 1 1 1 1 0 0 1 0 1 1 1 1 1 1 1 1 1 1 1 1 0 1 1 1 1]\n"
     ]
    }
   ],
   "source": [
    "for train_image_batch, train_label_batch in train_load_Dataset.take(1):  \n",
    "    print(f'Image batch shape: {train_image_batch.shape}')\n",
    "    print(f'Label batch shape: {train_label_batch.shape}')\n",
    "    print(f'Labels: {train_label_batch.numpy()}')"
   ]
  },
  {
   "cell_type": "markdown",
   "metadata": {},
   "source": [
    "##### Observations :-\n",
    "\n",
    "**Image batch shape** : 32 images, each 100x100 pixels with 3 color channels.\n",
    "\n",
    "**Label batch shape** : 32 labels, one per image.\n",
    "\n",
    "**Labels** : Array of labels corresponding to the 32 images, with \"0\" and \"1\" representing \"NORMAL\" and \"PNEUMONIA\" classes."
   ]
  },
  {
   "cell_type": "markdown",
   "metadata": {},
   "source": [
    "."
   ]
  },
  {
   "cell_type": "markdown",
   "metadata": {},
   "source": [
    "##### Visualizing first batch of images with their corresponding class labels from the training dataset."
   ]
  },
  {
   "cell_type": "code",
   "execution_count": 21,
   "metadata": {},
   "outputs": [
    {
     "data": {
      "image/png": "[encoded data removed]",
      "text/plain": [
       "<Figure size 1000x1000 with 2 Axes>"
      ]
     },
     "metadata": {},
     "output_type": "display_data"
    }
   ],
   "source": [
    "plt.figure(figsize=(10,10))\n",
    "\n",
    "for images, labels in train_load_Dataset.take(1):\n",
    "    for i in range(2):\n",
    "        plt.subplot(3,3,i+1)\n",
    "        plt.imshow(images[i].numpy().astype(\"uint8\"))\n",
    "        plt.title(trainClassNames[labels[i]])\n",
    "        plt.axis(\"off\") \n"
   ]
  },
  {
   "cell_type": "markdown",
   "metadata": {},
   "source": [
    "Here is the images from both the classes \"NORMAL\" and \"PNEUMONIA\""
   ]
  },
  {
   "cell_type": "markdown",
   "metadata": {},
   "source": [
    "."
   ]
  },
  {
   "cell_type": "markdown",
   "metadata": {},
   "source": [
    "##### Sets directory path, image size, and batch size for testing data"
   ]
  },
  {
   "cell_type": "code",
   "execution_count": 22,
   "metadata": {},
   "outputs": [],
   "source": [
    "test_base_dir = \"Pneumonia Dataset/test/\"\n",
    "test_img_size = 100\n",
    "test_batch = 32"
   ]
  },
  {
   "cell_type": "markdown",
   "metadata": {},
   "source": [
    "### image_dataset_from_directory\n",
    "\n",
    "* It loads images from a directory into a TensorFlow dataset for training or evaluation."
   ]
  },
  {
   "cell_type": "markdown",
   "metadata": {},
   "source": [
    "Using \"image_dataset_from_directory\" for loading image files from \"test_base_dir\"  and applying \"batch_size\" and \"image_size\" and saving it into \"test_load_Dataset\""
   ]
  },
  {
   "cell_type": "code",
   "execution_count": 23,
   "metadata": {},
   "outputs": [
    {
     "name": "stdout",
     "output_type": "stream",
     "text": [
      "Found 624 files belonging to 2 classes.\n"
     ]
    }
   ],
   "source": [
    "test_load_Dataset = tf.keras.utils.image_dataset_from_directory(test_base_dir, seed = 123,\n",
    "batch_size=test_batch  , image_size=(test_img_size,test_img_size))"
   ]
  },
  {
   "cell_type": "code",
   "execution_count": 24,
   "metadata": {},
   "outputs": [
    {
     "name": "stdout",
     "output_type": "stream",
     "text": [
      "Length of test_load_Dataset is :- 20\n"
     ]
    }
   ],
   "source": [
    "print(f\"Length of test_load_Dataset is :- {len(test_load_Dataset)}\")"
   ]
  },
  {
   "cell_type": "code",
   "execution_count": 25,
   "metadata": {},
   "outputs": [],
   "source": [
    "testClassNames = test_load_Dataset.class_names"
   ]
  },
  {
   "cell_type": "code",
   "execution_count": 26,
   "metadata": {},
   "outputs": [
    {
     "name": "stdout",
     "output_type": "stream",
     "text": [
      "['NORMAL', 'PNEUMONIA']\n"
     ]
    }
   ],
   "source": [
    "print(testClassNames)"
   ]
  },
  {
   "cell_type": "code",
   "execution_count": 27,
   "metadata": {},
   "outputs": [
    {
     "name": "stdout",
     "output_type": "stream",
     "text": [
      "Type of testClassNames is :- <class 'list'>\n"
     ]
    }
   ],
   "source": [
    "print(f\"Type of testClassNames is :- {type(testClassNames)}\")"
   ]
  },
  {
   "cell_type": "markdown",
   "metadata": {},
   "source": [
    "An insight into \"test_load_Dataset\" gives us that the length is 20 , which means that the dataset contains 20 batches of images \"(20*32 = 640)\" . \"class_names\" returned both the two classes \"NORMAL\" and \"PNEUMONIA\" in list format. "
   ]
  },
  {
   "cell_type": "markdown",
   "metadata": {},
   "source": [
    "."
   ]
  },
  {
   "cell_type": "markdown",
   "metadata": {},
   "source": [
    "##### Printing the shape and content of the first batch of images and labels from the \"test_load_Dataset\"."
   ]
  },
  {
   "cell_type": "code",
   "execution_count": 28,
   "metadata": {},
   "outputs": [
    {
     "name": "stdout",
     "output_type": "stream",
     "text": [
      "Image batch shape: (32, 100, 100, 3)\n",
      "Label batch shape: (32,)\n",
      "Labels: [0 1 1 1 0 1 1 1 0 1 1 1 0 1 1 1 0 1 1 0 0 0 1 0 0 1 1 1 1 1 1 1]\n"
     ]
    }
   ],
   "source": [
    "for test_image_batch, test_label_batch in test_load_Dataset.take(1):  # Take one batch\n",
    "    print(f'Image batch shape: {test_image_batch.shape}')\n",
    "    print(f'Label batch shape: {test_label_batch.shape}')\n",
    "    print(f'Labels: {test_label_batch.numpy()}')"
   ]
  },
  {
   "cell_type": "markdown",
   "metadata": {},
   "source": [
    "##### Observations :-\n",
    "\n",
    "**Image batch shape** : 32 images, each 100x100 pixels with 3 color channels.\n",
    "\n",
    "**Label batch shape** : 32 labels, one per image.\n",
    "\n",
    "**Labels** : Array of labels corresponding to the 32 images, with \"0\" and \"1\" representing \"NORMAL\" and \"PNEUMONIA\" classes."
   ]
  },
  {
   "cell_type": "markdown",
   "metadata": {},
   "source": [
    "."
   ]
  },
  {
   "cell_type": "markdown",
   "metadata": {},
   "source": [
    "##### Visualizing first batch of images with their corresponding class labels from the testing dataset."
   ]
  },
  {
   "cell_type": "code",
   "execution_count": 29,
   "metadata": {},
   "outputs": [
    {
     "data": {
      "image/png": "[encoded data removed]",
      "text/plain": [
       "<Figure size 1000x1000 with 2 Axes>"
      ]
     },
     "metadata": {},
     "output_type": "display_data"
    }
   ],
   "source": [
    "plt.figure(figsize=(10,10))\n",
    "\n",
    "for images, labels in test_load_Dataset.take(1):\n",
    "    for i in range(2):\n",
    "        plt.subplot(3,3,i+1)\n",
    "        plt.imshow(images[i].numpy().astype(\"uint8\"))\n",
    "        plt.title(testClassNames[labels[i]])\n",
    "        plt.axis(\"off\")"
   ]
  },
  {
   "cell_type": "markdown",
   "metadata": {},
   "source": [
    "Here is the images from both the classes \"NORMAL\" and \"PNEUMONIA\""
   ]
  },
  {
   "cell_type": "markdown",
   "metadata": {},
   "source": [
    "."
   ]
  },
  {
   "cell_type": "markdown",
   "metadata": {},
   "source": [
    "##### Preparing For SMOTE\n",
    "Before applying SMOTE into the data , it needs to be converted into appropiate format for efficient results.\n"
   ]
  },
  {
   "cell_type": "markdown",
   "metadata": {},
   "source": [
    "Here , converting the batches of images and labels from the dataset into single contiguous arrays which is preferable format for SMOTE."
   ]
  },
  {
   "cell_type": "code",
   "execution_count": 66,
   "metadata": {},
   "outputs": [],
   "source": [
    "train_images_list, train_labels_list = [], []\n",
    "for train_image_batch, train_label_batch in train_load_Dataset:\n",
    "    train_images_list.append( train_image_batch.numpy())\n",
    "    train_labels_list.append(train_label_batch.numpy())\n",
    "\n",
    "train_images_array = np.vstack(train_images_list) \n",
    "train_labels_array = np.hstack(train_labels_list)"
   ]
  },
  {
   "cell_type": "markdown",
   "metadata": {},
   "source": [
    "Collected and concatenates all image batches from \"train_load_Dataset\" into one large array (images). Using \"vstack\" for Vertically stacks arrays (images) into a single array.\n",
    "\n",
    "Collected and concatenates all label batches from \"train_load_Dataset\" into one large array (labels). Using \"hstack\" for Horizontally stacks arrays (labels) into a single array."
   ]
  },
  {
   "cell_type": "markdown",
   "metadata": {},
   "source": [
    "."
   ]
  },
  {
   "cell_type": "code",
   "execution_count": 68,
   "metadata": {},
   "outputs": [
    {
     "name": "stdout",
     "output_type": "stream",
     "text": [
      "Printing images array :-\n",
      "[137.56 137.56 137.56]\n"
     ]
    }
   ],
   "source": [
    "print(\"Printing images array :-\")\n",
    "print(train_images_array[0][0][0])"
   ]
  },
  {
   "cell_type": "markdown",
   "metadata": {},
   "source": [
    "##### An insight into \"train_images_array\""
   ]
  },
  {
   "cell_type": "code",
   "execution_count": 69,
   "metadata": {},
   "outputs": [
    {
     "name": "stdout",
     "output_type": "stream",
     "text": [
      "Shape of train_images_array is :- (5216, 100, 100, 3)\n",
      "Length of train_images_array is :- 5216\n",
      "Dimension of train_images_array is :- 4\n",
      "Type of train_images_array is :- <class 'numpy.ndarray'>\n"
     ]
    }
   ],
   "source": [
    "print(f\"Shape of train_images_array is :- {train_images_array.shape}\")\n",
    "print(f\"Length of train_images_array is :- {len(train_images_array)}\")\n",
    "print(f\"Dimension of train_images_array is :- {train_images_array.ndim}\")\n",
    "print(f\"Type of train_images_array is :- {type(train_images_array)}\") "
   ]
  },
  {
   "cell_type": "markdown",
   "metadata": {},
   "source": []
  },
  {
   "cell_type": "markdown",
   "metadata": {},
   "source": [
    "##### An insight into \"train_labels_array\""
   ]
  },
  {
   "cell_type": "code",
   "execution_count": 70,
   "metadata": {},
   "outputs": [
    {
     "name": "stdout",
     "output_type": "stream",
     "text": [
      "Printing train_labels_array :-\n",
      "[0 0 1 ... 1 1 1]\n"
     ]
    }
   ],
   "source": [
    "print(\"Printing train_labels_array :-\")\n",
    "print(train_labels_array)"
   ]
  },
  {
   "cell_type": "code",
   "execution_count": 71,
   "metadata": {},
   "outputs": [
    {
     "name": "stdout",
     "output_type": "stream",
     "text": [
      "Shape of train_labels_array is :- (5216,)\n",
      "Length of train_labels_array is :- 5216\n",
      "Dimension of train_labels_array is :- 1\n",
      "Type of train_labels_array is :- <class 'numpy.ndarray'>\n"
     ]
    }
   ],
   "source": [
    "print(f\"Shape of train_labels_array is :- {train_labels_array.shape}\")\n",
    "print(f\"Length of train_labels_array is :- {len(train_labels_array)}\")\n",
    "print(f\"Dimension of train_labels_array is :- {train_labels_array.ndim}\")\n",
    "print(f\"Type of train_labels_array is :- {type(train_labels_array)}\")"
   ]
  },
  {
   "cell_type": "markdown",
   "metadata": {},
   "source": []
  },
  {
   "cell_type": "markdown",
   "metadata": {},
   "source": [
    "##### Extracting and assigning the number of samples, image height, width, and channels from the shape of \"train_images_array\"."
   ]
  },
  {
   "cell_type": "code",
   "execution_count": 72,
   "metadata": {},
   "outputs": [],
   "source": [
    "number_of_samples, height, width, channels = train_images_array.shape"
   ]
  },
  {
   "cell_type": "code",
   "execution_count": 73,
   "metadata": {},
   "outputs": [
    {
     "name": "stdout",
     "output_type": "stream",
     "text": [
      "Samples numbers :- 5216, height :- 100, width :- 100 , channels :- 3\n"
     ]
    }
   ],
   "source": [
    "print(f\"Samples numbers :- {number_of_samples}, height :- {height}, width :- {width} , channels :- {channels}\")"
   ]
  },
  {
   "cell_type": "markdown",
   "metadata": {},
   "source": []
  },
  {
   "cell_type": "markdown",
   "metadata": {},
   "source": [
    "##### Flattens each image into a 1D array while maintaining the number of samples. Preparing the data for SMOTE which require's 2D inputs."
   ]
  },
  {
   "cell_type": "code",
   "execution_count": 74,
   "metadata": {},
   "outputs": [],
   "source": [
    "images_reshaped = train_images_array.reshape(number_of_samples, -1)"
   ]
  },
  {
   "cell_type": "code",
   "execution_count": 75,
   "metadata": {},
   "outputs": [
    {
     "name": "stdout",
     "output_type": "stream",
     "text": [
      "Printing Reshaped Images\n",
      "[137.56 137.56 137.56 ...   0.     0.     0.  ]\n"
     ]
    }
   ],
   "source": [
    "print(\"Printing Reshaped Images\")\n",
    "print(images_reshaped[0])"
   ]
  },
  {
   "cell_type": "markdown",
   "metadata": {},
   "source": [
    "##### An insight into \"images_reshaped\"."
   ]
  },
  {
   "cell_type": "code",
   "execution_count": 120,
   "metadata": {},
   "outputs": [
    {
     "name": "stdout",
     "output_type": "stream",
     "text": [
      "Shape of reshaped images :- (5216, 30000)\n",
      "Length of reshaped images :- 5216\n",
      "Dimension of reshaped images :- 2\n",
      "Type of reshaped image :- <class 'numpy.ndarray'>\n"
     ]
    }
   ],
   "source": [
    "print(f\"Shape of reshaped images :- {images_reshaped.shape}\")\n",
    "print(f\"Length of reshaped images :- {len(images_reshaped)}\")\n",
    "print(f\"Dimension of reshaped images :- {images_reshaped.ndim}\")\n",
    "print(f\"Type of reshaped image :- {type(images_reshaped)}\")"
   ]
  },
  {
   "cell_type": "markdown",
   "metadata": {},
   "source": []
  },
  {
   "cell_type": "code",
   "execution_count": null,
   "metadata": {},
   "outputs": [],
   "source": []
  },
  {
   "cell_type": "markdown",
   "metadata": {},
   "source": [
    "### SMOTE (Synthetic Minority Over-sampling Technique)"
   ]
  },
  {
   "cell_type": "markdown",
   "metadata": {},
   "source": [
    "1. **Use Case** : \n",
    "* Balances imbalanced datasets by generating synthetic samples for the minority class, improving model performance.\n",
    "\n",
    "2. **Objective** : \n",
    "* As earlier we saw the distribution of image files in class \"NORMAL\" is very less compared to class \"PNEUMONIA\" this data imbalance can lead to models overfitting for a single class consisting of major files. The models exposure will be very limited to one particular class and moving head will give bias and wrong predictions when introduced to new data. To overcome this issue using SMOTE to counter balance both the classes with equal number of data so the model could have exposure of distinct difference on the both classes and be able to predict and classify accordingly."
   ]
  },
  {
   "cell_type": "code",
   "execution_count": 121,
   "metadata": {},
   "outputs": [],
   "source": [
    "smote = SMOTE(random_state=42)\n",
    "images_Resampled, labels_Resampled = smote.fit_resample(images_reshaped, train_labels_array)"
   ]
  },
  {
   "cell_type": "markdown",
   "metadata": {},
   "source": [
    "An insight into \"images_Resampled\" and \"labels_Resampled\""
   ]
  },
  {
   "cell_type": "code",
   "execution_count": 122,
   "metadata": {},
   "outputs": [
    {
     "name": "stdout",
     "output_type": "stream",
     "text": [
      "Shape of resampled images :- (7750, 30000) and Shape of resampled labels (7750,)\n",
      "Length of resampled images 7750 and length of resampled labels 7750\n",
      "images_Resampled :- <class 'numpy.ndarray'> , labels_Resampled :- <class 'numpy.ndarray'> \n"
     ]
    }
   ],
   "source": [
    "print(f\"Shape of resampled images :- {images_Resampled.shape} and Shape of resampled labels {labels_Resampled.shape}\")\n",
    "print(f\"Length of resampled images {len(images_Resampled)} and length of resampled labels {len(labels_Resampled)}\")\n",
    "print(f\"images_Resampled :- {type(images_Resampled)} , labels_Resampled :- {type(labels_Resampled)} \")"
   ]
  },
  {
   "cell_type": "markdown",
   "metadata": {},
   "source": []
  },
  {
   "cell_type": "markdown",
   "metadata": {},
   "source": [
    "##### Reshaping \"images_Resampled\" \n",
    "* reshaping back to its original 4D shape (samples, height, width, channels). And saving it into \"Xtrain_resampled\". \n",
    "\n",
    "##### Prepares the balanced data for model training. Ensures compatibility with CNN input requirements. "
   ]
  },
  {
   "cell_type": "code",
   "execution_count": 123,
   "metadata": {},
   "outputs": [],
   "source": [
    "Xtrain_resampled = images_Resampled.reshape((images_Resampled.shape[0], height, width, channels))"
   ]
  },
  {
   "cell_type": "markdown",
   "metadata": {},
   "source": [
    "An insight into \"Xtrain_resampled\""
   ]
  },
  {
   "cell_type": "code",
   "execution_count": 124,
   "metadata": {},
   "outputs": [
    {
     "name": "stdout",
     "output_type": "stream",
     "text": [
      "Shape of resampled Xtrain is :- (7750, 100, 100, 3)\n",
      "Dimension in resampled Xtrain is :- 4\n",
      "Xtrain_resampled :-\n",
      "[137.56 137.56 137.56]\n"
     ]
    }
   ],
   "source": [
    "print(f\"Shape of resampled Xtrain is :- {Xtrain_resampled.shape}\")\n",
    "print(f\"Dimension in resampled Xtrain is :- {Xtrain_resampled.ndim}\")\n",
    "print(\"Xtrain_resampled :-\")\n",
    "print(Xtrain_resampled[0][0][0])"
   ]
  },
  {
   "cell_type": "markdown",
   "metadata": {},
   "source": []
  },
  {
   "cell_type": "markdown",
   "metadata": {},
   "source": [
    "### Data Augmentation\n",
    "* Initializes a data augmentation pipeline for training images\n",
    "* Enhances model robustness by generating varied training samples through random flipping, rotation, and zooming."
   ]
  },
  {
   "cell_type": "code",
   "execution_count": 125,
   "metadata": {},
   "outputs": [
    {
     "name": "stderr",
     "output_type": "stream",
     "text": [
      "c:\\Users\\Sambhu\\anaconda3\\Lib\\site-packages\\keras\\src\\layers\\preprocessing\\tf_data_layer.py:19: UserWarning: Do not pass an `input_shape`/`input_dim` argument to a layer. When using Sequential models, prefer using an `Input(shape)` object as the first layer in the model instead.\n",
      "  super().__init__(**kwargs)\n"
     ]
    }
   ],
   "source": [
    "dataAugmentation = Sequential([\n",
    "    layers.RandomFlip(\"horizontal\",input_shape=(100,100,3)),\n",
    "    layers.RandomRotation(0.1),\n",
    "    layers.RandomZoom(0.1)\n",
    "])"
   ]
  },
  {
   "cell_type": "markdown",
   "metadata": {},
   "source": [
    "##### Visualizing \"dataAugmentation\" training images.\n",
    "\n",
    "* Applies data augmentation to a batch of images.\n",
    "\n",
    "* Displays the first augmented image in a 3x3 grid without axes."
   ]
  },
  {
   "cell_type": "code",
   "execution_count": 82,
   "metadata": {},
   "outputs": [
    {
     "data": {
      "image/png": "[encoded data removed]",
      "text/plain": [
       "<Figure size 640x480 with 9 Axes>"
      ]
     },
     "metadata": {},
     "output_type": "display_data"
    }
   ],
   "source": [
    "for images, labels in train_load_Dataset.take(1):\n",
    "    for i in range(9):\n",
    "        images = dataAugmentation(images)\n",
    "        plt.subplot(3,3,i+1)\n",
    "        plt.imshow(images[0].numpy().astype(\"uint8\"))\n",
    "        plt.axis(\"off\")"
   ]
  },
  {
   "cell_type": "markdown",
   "metadata": {},
   "source": []
  },
  {
   "cell_type": "markdown",
   "metadata": {},
   "source": [
    "### CNN Model For Image Classification."
   ]
  },
  {
   "cell_type": "markdown",
   "metadata": {},
   "source": [
    "##### Components:\n",
    "\n",
    "* dataAugmentation: Applies augmentation to input images.\n",
    "\n",
    "* Conv2D layers: Extracts features with increasing filters (16, 32, 64).\n",
    "\n",
    "* MaxPooling2D layers: Reduces spatial dimensions.\n",
    "\n",
    "* Dropout layers: Prevents overfitting.\n",
    "\n",
    "* Flatten layer: Converts 2D features to 1D.\n",
    "\n",
    "* Dense layers: Performs final classification (128 units, then 2 units).\n",
    "\n",
    "* Activation Function: Using \"relu\" as activation function "
   ]
  },
  {
   "cell_type": "code",
   "execution_count": 126,
   "metadata": {},
   "outputs": [
    {
     "name": "stderr",
     "output_type": "stream",
     "text": [
      "c:\\Users\\Sambhu\\anaconda3\\Lib\\site-packages\\keras\\src\\layers\\convolutional\\base_conv.py:107: UserWarning: Do not pass an `input_shape`/`input_dim` argument to a layer. When using Sequential models, prefer using an `Input(shape)` object as the first layer in the model instead.\n",
      "  super().__init__(activity_regularizer=activity_regularizer, **kwargs)\n"
     ]
    }
   ],
   "source": [
    "clfModel = Sequential([\n",
    "    dataAugmentation,\n",
    "    Conv2D(16,3,padding=\"same\",activation=\"relu\",input_shape=(100,100,3)),\n",
    "    BatchNormalization(),\n",
    "    MaxPooling2D(pool_size=(2,2)),\n",
    "    Dropout(0.25),\n",
    "\n",
    "    Conv2D(32,3,padding=\"same\",activation=\"relu\"),\n",
    "    BatchNormalization(),\n",
    "    MaxPooling2D(pool_size=(2,2)),\n",
    "    Dropout(0.5),\n",
    "\n",
    "    Conv2D(64,3,padding=\"same\",activation=\"relu\"),\n",
    "    BatchNormalization(),\n",
    "    MaxPooling2D(pool_size=(2,2)),\n",
    "    Dropout(0.25),\n",
    "\n",
    "    Flatten(),\n",
    "    Dense(128,activation=\"relu\"),\n",
    "    BatchNormalization(),\n",
    "    Dropout(0.3),\n",
    "    Dense(2)\n",
    "])"
   ]
  },
  {
   "cell_type": "markdown",
   "metadata": {},
   "source": [
    "### Configuring the model for training.\n",
    "\n",
    "##### Components:\n",
    "\n",
    "* Optimizer: Using Adam for efficient gradient-based optimization.\n",
    "\n",
    "* Loss Function: Using Sparse Categorical Crossentropy to measure prediction error for classification.\n",
    "\n",
    "* Metrics: Tracks accuracy during training."
   ]
  },
  {
   "cell_type": "code",
   "execution_count": 127,
   "metadata": {},
   "outputs": [],
   "source": [
    "clfModel.compile(optimizer=\"adam\"\n",
    "              ,loss=tf.keras.losses.SparseCategoricalCrossentropy(from_logits=True),\n",
    "              metrics=[\"accuracy\"])"
   ]
  },
  {
   "cell_type": "markdown",
   "metadata": {},
   "source": [
    "Displaying a summary of the model's architecture using \"summary()\" feature. Layer types, output shapes, and number of parameters for each layer will be returned."
   ]
  },
  {
   "cell_type": "code",
   "execution_count": 128,
   "metadata": {},
   "outputs": [
    {
     "data": {
      "text/html": [
       "<pre style=\"white-space:pre;overflow-x:auto;line-height:normal;font-family:Menlo,'DejaVu Sans Mono',consolas,'Courier New',monospace\"><span style=\"font-weight: bold\">Model: \"sequential_3\"</span>\n",
       "</pre>\n"
      ],
      "text/plain": [
       "\u001b[1mModel: \"sequential_3\"\u001b[0m\n"
      ]
     },
     "metadata": {},
     "output_type": "display_data"
    },
    {
     "data": {
      "text/html": [
       "<pre style=\"white-space:pre;overflow-x:auto;line-height:normal;font-family:Menlo,'DejaVu Sans Mono',consolas,'Courier New',monospace\">┏━━━━━━━━━━━━━━━━━━━━━━━━━━━━━━━━━┳━━━━━━━━━━━━━━━━━━━━━━━━┳━━━━━━━━━━━━━━━┓\n",
       "┃<span style=\"font-weight: bold\"> Layer (type)                    </span>┃<span style=\"font-weight: bold\"> Output Shape           </span>┃<span style=\"font-weight: bold\">       Param # </span>┃\n",
       "┡━━━━━━━━━━━━━━━━━━━━━━━━━━━━━━━━━╇━━━━━━━━━━━━━━━━━━━━━━━━╇━━━━━━━━━━━━━━━┩\n",
       "│ sequential_2 (<span style=\"color: #0087ff; text-decoration-color: #0087ff\">Sequential</span>)       │ (<span style=\"color: #00d7ff; text-decoration-color: #00d7ff\">None</span>, <span style=\"color: #00af00; text-decoration-color: #00af00\">100</span>, <span style=\"color: #00af00; text-decoration-color: #00af00\">100</span>, <span style=\"color: #00af00; text-decoration-color: #00af00\">3</span>)    │             <span style=\"color: #00af00; text-decoration-color: #00af00\">0</span> │\n",
       "├─────────────────────────────────┼────────────────────────┼───────────────┤\n",
       "│ conv2d_3 (<span style=\"color: #0087ff; text-decoration-color: #0087ff\">Conv2D</span>)               │ (<span style=\"color: #00d7ff; text-decoration-color: #00d7ff\">None</span>, <span style=\"color: #00af00; text-decoration-color: #00af00\">100</span>, <span style=\"color: #00af00; text-decoration-color: #00af00\">100</span>, <span style=\"color: #00af00; text-decoration-color: #00af00\">16</span>)   │           <span style=\"color: #00af00; text-decoration-color: #00af00\">448</span> │\n",
       "├─────────────────────────────────┼────────────────────────┼───────────────┤\n",
       "│ batch_normalization_4           │ (<span style=\"color: #00d7ff; text-decoration-color: #00d7ff\">None</span>, <span style=\"color: #00af00; text-decoration-color: #00af00\">100</span>, <span style=\"color: #00af00; text-decoration-color: #00af00\">100</span>, <span style=\"color: #00af00; text-decoration-color: #00af00\">16</span>)   │            <span style=\"color: #00af00; text-decoration-color: #00af00\">64</span> │\n",
       "│ (<span style=\"color: #0087ff; text-decoration-color: #0087ff\">BatchNormalization</span>)            │                        │               │\n",
       "├─────────────────────────────────┼────────────────────────┼───────────────┤\n",
       "│ max_pooling2d_3 (<span style=\"color: #0087ff; text-decoration-color: #0087ff\">MaxPooling2D</span>)  │ (<span style=\"color: #00d7ff; text-decoration-color: #00d7ff\">None</span>, <span style=\"color: #00af00; text-decoration-color: #00af00\">50</span>, <span style=\"color: #00af00; text-decoration-color: #00af00\">50</span>, <span style=\"color: #00af00; text-decoration-color: #00af00\">16</span>)     │             <span style=\"color: #00af00; text-decoration-color: #00af00\">0</span> │\n",
       "├─────────────────────────────────┼────────────────────────┼───────────────┤\n",
       "│ dropout_4 (<span style=\"color: #0087ff; text-decoration-color: #0087ff\">Dropout</span>)             │ (<span style=\"color: #00d7ff; text-decoration-color: #00d7ff\">None</span>, <span style=\"color: #00af00; text-decoration-color: #00af00\">50</span>, <span style=\"color: #00af00; text-decoration-color: #00af00\">50</span>, <span style=\"color: #00af00; text-decoration-color: #00af00\">16</span>)     │             <span style=\"color: #00af00; text-decoration-color: #00af00\">0</span> │\n",
       "├─────────────────────────────────┼────────────────────────┼───────────────┤\n",
       "│ conv2d_4 (<span style=\"color: #0087ff; text-decoration-color: #0087ff\">Conv2D</span>)               │ (<span style=\"color: #00d7ff; text-decoration-color: #00d7ff\">None</span>, <span style=\"color: #00af00; text-decoration-color: #00af00\">50</span>, <span style=\"color: #00af00; text-decoration-color: #00af00\">50</span>, <span style=\"color: #00af00; text-decoration-color: #00af00\">32</span>)     │         <span style=\"color: #00af00; text-decoration-color: #00af00\">4,640</span> │\n",
       "├─────────────────────────────────┼────────────────────────┼───────────────┤\n",
       "│ batch_normalization_5           │ (<span style=\"color: #00d7ff; text-decoration-color: #00d7ff\">None</span>, <span style=\"color: #00af00; text-decoration-color: #00af00\">50</span>, <span style=\"color: #00af00; text-decoration-color: #00af00\">50</span>, <span style=\"color: #00af00; text-decoration-color: #00af00\">32</span>)     │           <span style=\"color: #00af00; text-decoration-color: #00af00\">128</span> │\n",
       "│ (<span style=\"color: #0087ff; text-decoration-color: #0087ff\">BatchNormalization</span>)            │                        │               │\n",
       "├─────────────────────────────────┼────────────────────────┼───────────────┤\n",
       "│ max_pooling2d_4 (<span style=\"color: #0087ff; text-decoration-color: #0087ff\">MaxPooling2D</span>)  │ (<span style=\"color: #00d7ff; text-decoration-color: #00d7ff\">None</span>, <span style=\"color: #00af00; text-decoration-color: #00af00\">25</span>, <span style=\"color: #00af00; text-decoration-color: #00af00\">25</span>, <span style=\"color: #00af00; text-decoration-color: #00af00\">32</span>)     │             <span style=\"color: #00af00; text-decoration-color: #00af00\">0</span> │\n",
       "├─────────────────────────────────┼────────────────────────┼───────────────┤\n",
       "│ dropout_5 (<span style=\"color: #0087ff; text-decoration-color: #0087ff\">Dropout</span>)             │ (<span style=\"color: #00d7ff; text-decoration-color: #00d7ff\">None</span>, <span style=\"color: #00af00; text-decoration-color: #00af00\">25</span>, <span style=\"color: #00af00; text-decoration-color: #00af00\">25</span>, <span style=\"color: #00af00; text-decoration-color: #00af00\">32</span>)     │             <span style=\"color: #00af00; text-decoration-color: #00af00\">0</span> │\n",
       "├─────────────────────────────────┼────────────────────────┼───────────────┤\n",
       "│ conv2d_5 (<span style=\"color: #0087ff; text-decoration-color: #0087ff\">Conv2D</span>)               │ (<span style=\"color: #00d7ff; text-decoration-color: #00d7ff\">None</span>, <span style=\"color: #00af00; text-decoration-color: #00af00\">25</span>, <span style=\"color: #00af00; text-decoration-color: #00af00\">25</span>, <span style=\"color: #00af00; text-decoration-color: #00af00\">64</span>)     │        <span style=\"color: #00af00; text-decoration-color: #00af00\">18,496</span> │\n",
       "├─────────────────────────────────┼────────────────────────┼───────────────┤\n",
       "│ batch_normalization_6           │ (<span style=\"color: #00d7ff; text-decoration-color: #00d7ff\">None</span>, <span style=\"color: #00af00; text-decoration-color: #00af00\">25</span>, <span style=\"color: #00af00; text-decoration-color: #00af00\">25</span>, <span style=\"color: #00af00; text-decoration-color: #00af00\">64</span>)     │           <span style=\"color: #00af00; text-decoration-color: #00af00\">256</span> │\n",
       "│ (<span style=\"color: #0087ff; text-decoration-color: #0087ff\">BatchNormalization</span>)            │                        │               │\n",
       "├─────────────────────────────────┼────────────────────────┼───────────────┤\n",
       "│ max_pooling2d_5 (<span style=\"color: #0087ff; text-decoration-color: #0087ff\">MaxPooling2D</span>)  │ (<span style=\"color: #00d7ff; text-decoration-color: #00d7ff\">None</span>, <span style=\"color: #00af00; text-decoration-color: #00af00\">12</span>, <span style=\"color: #00af00; text-decoration-color: #00af00\">12</span>, <span style=\"color: #00af00; text-decoration-color: #00af00\">64</span>)     │             <span style=\"color: #00af00; text-decoration-color: #00af00\">0</span> │\n",
       "├─────────────────────────────────┼────────────────────────┼───────────────┤\n",
       "│ dropout_6 (<span style=\"color: #0087ff; text-decoration-color: #0087ff\">Dropout</span>)             │ (<span style=\"color: #00d7ff; text-decoration-color: #00d7ff\">None</span>, <span style=\"color: #00af00; text-decoration-color: #00af00\">12</span>, <span style=\"color: #00af00; text-decoration-color: #00af00\">12</span>, <span style=\"color: #00af00; text-decoration-color: #00af00\">64</span>)     │             <span style=\"color: #00af00; text-decoration-color: #00af00\">0</span> │\n",
       "├─────────────────────────────────┼────────────────────────┼───────────────┤\n",
       "│ flatten_1 (<span style=\"color: #0087ff; text-decoration-color: #0087ff\">Flatten</span>)             │ (<span style=\"color: #00d7ff; text-decoration-color: #00d7ff\">None</span>, <span style=\"color: #00af00; text-decoration-color: #00af00\">9216</span>)           │             <span style=\"color: #00af00; text-decoration-color: #00af00\">0</span> │\n",
       "├─────────────────────────────────┼────────────────────────┼───────────────┤\n",
       "│ dense_2 (<span style=\"color: #0087ff; text-decoration-color: #0087ff\">Dense</span>)                 │ (<span style=\"color: #00d7ff; text-decoration-color: #00d7ff\">None</span>, <span style=\"color: #00af00; text-decoration-color: #00af00\">128</span>)            │     <span style=\"color: #00af00; text-decoration-color: #00af00\">1,179,776</span> │\n",
       "├─────────────────────────────────┼────────────────────────┼───────────────┤\n",
       "│ batch_normalization_7           │ (<span style=\"color: #00d7ff; text-decoration-color: #00d7ff\">None</span>, <span style=\"color: #00af00; text-decoration-color: #00af00\">128</span>)            │           <span style=\"color: #00af00; text-decoration-color: #00af00\">512</span> │\n",
       "│ (<span style=\"color: #0087ff; text-decoration-color: #0087ff\">BatchNormalization</span>)            │                        │               │\n",
       "├─────────────────────────────────┼────────────────────────┼───────────────┤\n",
       "│ dropout_7 (<span style=\"color: #0087ff; text-decoration-color: #0087ff\">Dropout</span>)             │ (<span style=\"color: #00d7ff; text-decoration-color: #00d7ff\">None</span>, <span style=\"color: #00af00; text-decoration-color: #00af00\">128</span>)            │             <span style=\"color: #00af00; text-decoration-color: #00af00\">0</span> │\n",
       "├─────────────────────────────────┼────────────────────────┼───────────────┤\n",
       "│ dense_3 (<span style=\"color: #0087ff; text-decoration-color: #0087ff\">Dense</span>)                 │ (<span style=\"color: #00d7ff; text-decoration-color: #00d7ff\">None</span>, <span style=\"color: #00af00; text-decoration-color: #00af00\">2</span>)              │           <span style=\"color: #00af00; text-decoration-color: #00af00\">258</span> │\n",
       "└─────────────────────────────────┴────────────────────────┴───────────────┘\n",
       "</pre>\n"
      ],
      "text/plain": [
       "┏━━━━━━━━━━━━━━━━━━━━━━━━━━━━━━━━━┳━━━━━━━━━━━━━━━━━━━━━━━━┳━━━━━━━━━━━━━━━┓\n",
       "┃\u001b[1m \u001b[0m\u001b[1mLayer (type)                   \u001b[0m\u001b[1m \u001b[0m┃\u001b[1m \u001b[0m\u001b[1mOutput Shape          \u001b[0m\u001b[1m \u001b[0m┃\u001b[1m \u001b[0m\u001b[1m      Param #\u001b[0m\u001b[1m \u001b[0m┃\n",
       "┡━━━━━━━━━━━━━━━━━━━━━━━━━━━━━━━━━╇━━━━━━━━━━━━━━━━━━━━━━━━╇━━━━━━━━━━━━━━━┩\n",
       "│ sequential_2 (\u001b[38;5;33mSequential\u001b[0m)       │ (\u001b[38;5;45mNone\u001b[0m, \u001b[38;5;34m100\u001b[0m, \u001b[38;5;34m100\u001b[0m, \u001b[38;5;34m3\u001b[0m)    │             \u001b[38;5;34m0\u001b[0m │\n",
       "├─────────────────────────────────┼────────────────────────┼───────────────┤\n",
       "│ conv2d_3 (\u001b[38;5;33mConv2D\u001b[0m)               │ (\u001b[38;5;45mNone\u001b[0m, \u001b[38;5;34m100\u001b[0m, \u001b[38;5;34m100\u001b[0m, \u001b[38;5;34m16\u001b[0m)   │           \u001b[38;5;34m448\u001b[0m │\n",
       "├─────────────────────────────────┼────────────────────────┼───────────────┤\n",
       "│ batch_normalization_4           │ (\u001b[38;5;45mNone\u001b[0m, \u001b[38;5;34m100\u001b[0m, \u001b[38;5;34m100\u001b[0m, \u001b[38;5;34m16\u001b[0m)   │            \u001b[38;5;34m64\u001b[0m │\n",
       "│ (\u001b[38;5;33mBatchNormalization\u001b[0m)            │                        │               │\n",
       "├─────────────────────────────────┼────────────────────────┼───────────────┤\n",
       "│ max_pooling2d_3 (\u001b[38;5;33mMaxPooling2D\u001b[0m)  │ (\u001b[38;5;45mNone\u001b[0m, \u001b[38;5;34m50\u001b[0m, \u001b[38;5;34m50\u001b[0m, \u001b[38;5;34m16\u001b[0m)     │             \u001b[38;5;34m0\u001b[0m │\n",
       "├─────────────────────────────────┼────────────────────────┼───────────────┤\n",
       "│ dropout_4 (\u001b[38;5;33mDropout\u001b[0m)             │ (\u001b[38;5;45mNone\u001b[0m, \u001b[38;5;34m50\u001b[0m, \u001b[38;5;34m50\u001b[0m, \u001b[38;5;34m16\u001b[0m)     │             \u001b[38;5;34m0\u001b[0m │\n",
       "├─────────────────────────────────┼────────────────────────┼───────────────┤\n",
       "│ conv2d_4 (\u001b[38;5;33mConv2D\u001b[0m)               │ (\u001b[38;5;45mNone\u001b[0m, \u001b[38;5;34m50\u001b[0m, \u001b[38;5;34m50\u001b[0m, \u001b[38;5;34m32\u001b[0m)     │         \u001b[38;5;34m4,640\u001b[0m │\n",
       "├─────────────────────────────────┼────────────────────────┼───────────────┤\n",
       "│ batch_normalization_5           │ (\u001b[38;5;45mNone\u001b[0m, \u001b[38;5;34m50\u001b[0m, \u001b[38;5;34m50\u001b[0m, \u001b[38;5;34m32\u001b[0m)     │           \u001b[38;5;34m128\u001b[0m │\n",
       "│ (\u001b[38;5;33mBatchNormalization\u001b[0m)            │                        │               │\n",
       "├─────────────────────────────────┼────────────────────────┼───────────────┤\n",
       "│ max_pooling2d_4 (\u001b[38;5;33mMaxPooling2D\u001b[0m)  │ (\u001b[38;5;45mNone\u001b[0m, \u001b[38;5;34m25\u001b[0m, \u001b[38;5;34m25\u001b[0m, \u001b[38;5;34m32\u001b[0m)     │             \u001b[38;5;34m0\u001b[0m │\n",
       "├─────────────────────────────────┼────────────────────────┼───────────────┤\n",
       "│ dropout_5 (\u001b[38;5;33mDropout\u001b[0m)             │ (\u001b[38;5;45mNone\u001b[0m, \u001b[38;5;34m25\u001b[0m, \u001b[38;5;34m25\u001b[0m, \u001b[38;5;34m32\u001b[0m)     │             \u001b[38;5;34m0\u001b[0m │\n",
       "├─────────────────────────────────┼────────────────────────┼───────────────┤\n",
       "│ conv2d_5 (\u001b[38;5;33mConv2D\u001b[0m)               │ (\u001b[38;5;45mNone\u001b[0m, \u001b[38;5;34m25\u001b[0m, \u001b[38;5;34m25\u001b[0m, \u001b[38;5;34m64\u001b[0m)     │        \u001b[38;5;34m18,496\u001b[0m │\n",
       "├─────────────────────────────────┼────────────────────────┼───────────────┤\n",
       "│ batch_normalization_6           │ (\u001b[38;5;45mNone\u001b[0m, \u001b[38;5;34m25\u001b[0m, \u001b[38;5;34m25\u001b[0m, \u001b[38;5;34m64\u001b[0m)     │           \u001b[38;5;34m256\u001b[0m │\n",
       "│ (\u001b[38;5;33mBatchNormalization\u001b[0m)            │                        │               │\n",
       "├─────────────────────────────────┼────────────────────────┼───────────────┤\n",
       "│ max_pooling2d_5 (\u001b[38;5;33mMaxPooling2D\u001b[0m)  │ (\u001b[38;5;45mNone\u001b[0m, \u001b[38;5;34m12\u001b[0m, \u001b[38;5;34m12\u001b[0m, \u001b[38;5;34m64\u001b[0m)     │             \u001b[38;5;34m0\u001b[0m │\n",
       "├─────────────────────────────────┼────────────────────────┼───────────────┤\n",
       "│ dropout_6 (\u001b[38;5;33mDropout\u001b[0m)             │ (\u001b[38;5;45mNone\u001b[0m, \u001b[38;5;34m12\u001b[0m, \u001b[38;5;34m12\u001b[0m, \u001b[38;5;34m64\u001b[0m)     │             \u001b[38;5;34m0\u001b[0m │\n",
       "├─────────────────────────────────┼────────────────────────┼───────────────┤\n",
       "│ flatten_1 (\u001b[38;5;33mFlatten\u001b[0m)             │ (\u001b[38;5;45mNone\u001b[0m, \u001b[38;5;34m9216\u001b[0m)           │             \u001b[38;5;34m0\u001b[0m │\n",
       "├─────────────────────────────────┼────────────────────────┼───────────────┤\n",
       "│ dense_2 (\u001b[38;5;33mDense\u001b[0m)                 │ (\u001b[38;5;45mNone\u001b[0m, \u001b[38;5;34m128\u001b[0m)            │     \u001b[38;5;34m1,179,776\u001b[0m │\n",
       "├─────────────────────────────────┼────────────────────────┼───────────────┤\n",
       "│ batch_normalization_7           │ (\u001b[38;5;45mNone\u001b[0m, \u001b[38;5;34m128\u001b[0m)            │           \u001b[38;5;34m512\u001b[0m │\n",
       "│ (\u001b[38;5;33mBatchNormalization\u001b[0m)            │                        │               │\n",
       "├─────────────────────────────────┼────────────────────────┼───────────────┤\n",
       "│ dropout_7 (\u001b[38;5;33mDropout\u001b[0m)             │ (\u001b[38;5;45mNone\u001b[0m, \u001b[38;5;34m128\u001b[0m)            │             \u001b[38;5;34m0\u001b[0m │\n",
       "├─────────────────────────────────┼────────────────────────┼───────────────┤\n",
       "│ dense_3 (\u001b[38;5;33mDense\u001b[0m)                 │ (\u001b[38;5;45mNone\u001b[0m, \u001b[38;5;34m2\u001b[0m)              │           \u001b[38;5;34m258\u001b[0m │\n",
       "└─────────────────────────────────┴────────────────────────┴───────────────┘\n"
      ]
     },
     "metadata": {},
     "output_type": "display_data"
    },
    {
     "data": {
      "text/html": [
       "<pre style=\"white-space:pre;overflow-x:auto;line-height:normal;font-family:Menlo,'DejaVu Sans Mono',consolas,'Courier New',monospace\"><span style=\"font-weight: bold\"> Total params: </span><span style=\"color: #00af00; text-decoration-color: #00af00\">1,204,578</span> (4.60 MB)\n",
       "</pre>\n"
      ],
      "text/plain": [
       "\u001b[1m Total params: \u001b[0m\u001b[38;5;34m1,204,578\u001b[0m (4.60 MB)\n"
      ]
     },
     "metadata": {},
     "output_type": "display_data"
    },
    {
     "data": {
      "text/html": [
       "<pre style=\"white-space:pre;overflow-x:auto;line-height:normal;font-family:Menlo,'DejaVu Sans Mono',consolas,'Courier New',monospace\"><span style=\"font-weight: bold\"> Trainable params: </span><span style=\"color: #00af00; text-decoration-color: #00af00\">1,204,098</span> (4.59 MB)\n",
       "</pre>\n"
      ],
      "text/plain": [
       "\u001b[1m Trainable params: \u001b[0m\u001b[38;5;34m1,204,098\u001b[0m (4.59 MB)\n"
      ]
     },
     "metadata": {},
     "output_type": "display_data"
    },
    {
     "data": {
      "text/html": [
       "<pre style=\"white-space:pre;overflow-x:auto;line-height:normal;font-family:Menlo,'DejaVu Sans Mono',consolas,'Courier New',monospace\"><span style=\"font-weight: bold\"> Non-trainable params: </span><span style=\"color: #00af00; text-decoration-color: #00af00\">480</span> (1.88 KB)\n",
       "</pre>\n"
      ],
      "text/plain": [
       "\u001b[1m Non-trainable params: \u001b[0m\u001b[38;5;34m480\u001b[0m (1.88 KB)\n"
      ]
     },
     "metadata": {},
     "output_type": "display_data"
    }
   ],
   "source": [
    "clfModel.summary()"
   ]
  },
  {
   "cell_type": "markdown",
   "metadata": {},
   "source": [
    "**Summary**:\n",
    "\n",
    "* **Total params**: Total parameters in the model (trainable + non-trainable) , which is  1,204,578 for the clfModel.\n",
    "\n",
    "* **Trainable params**: Parameters that are updated during training , for the clfModel trainable params are 1,204,098.\n",
    "\n",
    "* **Non-trainable params**: Parameters that are not updated during training , for the moclfModel Non-Trainable params are 480.\n"
   ]
  },
  {
   "cell_type": "markdown",
   "metadata": {},
   "source": [
    "### Callbacks "
   ]
  },
  {
   "cell_type": "code",
   "execution_count": 129,
   "metadata": {},
   "outputs": [],
   "source": [
    "early_stopping = EarlyStopping(monitor='val_loss', patience=3, mode='min', verbose=1)\n",
    "lr_scheduler = ReduceLROnPlateau(monitor='val_loss', factor=0.5, patience=3, verbose=1)\n",
    "model_Check = ModelCheckpoint('First_Method_X_Ray_Classification_Model.keras',monitor='val_accuracy',save_best_only=True,mode='max',verbose=1)"
   ]
  },
  {
   "cell_type": "markdown",
   "metadata": {},
   "source": [
    "Summary :\n",
    "\n",
    "1. EarlyStopping: Stops training when validation loss stops improving, with a patience of 8 epochs.\n",
    "2. ReduceLROnPlateau: Reduces learning rate by a factor of 0.5 when validation loss plateaus, with a patience of 8 epochs.\n",
    "3.ModelCheckpoin: Saves the model with the best validation accuracy to 'best_model.keras'.\n",
    "\n",
    "These callbacks help improve model performance and efficiency during training! "
   ]
  },
  {
   "cell_type": "markdown",
   "metadata": {},
   "source": []
  },
  {
   "cell_type": "markdown",
   "metadata": {},
   "source": [
    "### Training the model on the resampled dataset."
   ]
  },
  {
   "cell_type": "markdown",
   "metadata": {},
   "source": [
    "Components:\n",
    "\n",
    "* Xtrain_resampled, labels_Resampled: Training data and labels.\n",
    "* validation_split=0.2: Uses 20% of the data for validation.\n",
    "* epochs=100: Runs training for up to 100 epochs.\n",
    "* callbacks: Uses early stopping, learning rate reduction, and model checkpointing to enhance training."
   ]
  },
  {
   "cell_type": "code",
   "execution_count": 130,
   "metadata": {},
   "outputs": [
    {
     "name": "stdout",
     "output_type": "stream",
     "text": [
      "Epoch 1/100\n",
      "\u001b[1m170/170\u001b[0m \u001b[32m━━━━━━━━━━━━━━━━━━━━\u001b[0m\u001b[37m\u001b[0m \u001b[1m0s\u001b[0m 104ms/step - accuracy: 0.7945 - loss: 0.5828\n",
      "Epoch 1: val_accuracy improved from -inf to 0.16903, saving model to First_Method_X_Ray_Classification_Model.keras\n",
      "\u001b[1m170/170\u001b[0m \u001b[32m━━━━━━━━━━━━━━━━━━━━\u001b[0m\u001b[37m\u001b[0m \u001b[1m24s\u001b[0m 113ms/step - accuracy: 0.7947 - loss: 0.5819 - val_accuracy: 0.1690 - val_loss: 2.2430 - learning_rate: 0.0010\n",
      "Epoch 2/100\n",
      "\u001b[1m170/170\u001b[0m \u001b[32m━━━━━━━━━━━━━━━━━━━━\u001b[0m\u001b[37m\u001b[0m \u001b[1m0s\u001b[0m 103ms/step - accuracy: 0.8954 - loss: 0.2643\n",
      "Epoch 2: val_accuracy improved from 0.16903 to 0.80774, saving model to First_Method_X_Ray_Classification_Model.keras\n",
      "\u001b[1m170/170\u001b[0m \u001b[32m━━━━━━━━━━━━━━━━━━━━\u001b[0m\u001b[37m\u001b[0m \u001b[1m19s\u001b[0m 110ms/step - accuracy: 0.8955 - loss: 0.2642 - val_accuracy: 0.8077 - val_loss: 0.4531 - learning_rate: 0.0010\n",
      "Epoch 3/100\n",
      "\u001b[1m170/170\u001b[0m \u001b[32m━━━━━━━━━━━━━━━━━━━━\u001b[0m\u001b[37m\u001b[0m \u001b[1m0s\u001b[0m 103ms/step - accuracy: 0.9195 - loss: 0.2064\n",
      "Epoch 3: val_accuracy improved from 0.80774 to 0.93462, saving model to First_Method_X_Ray_Classification_Model.keras\n",
      "\u001b[1m170/170\u001b[0m \u001b[32m━━━━━━━━━━━━━━━━━━━━\u001b[0m\u001b[37m\u001b[0m \u001b[1m19s\u001b[0m 110ms/step - accuracy: 0.9195 - loss: 0.2064 - val_accuracy: 0.9346 - val_loss: 0.2201 - learning_rate: 0.0010\n",
      "Epoch 4/100\n",
      "\u001b[1m170/170\u001b[0m \u001b[32m━━━━━━━━━━━━━━━━━━━━\u001b[0m\u001b[37m\u001b[0m \u001b[1m0s\u001b[0m 105ms/step - accuracy: 0.9301 - loss: 0.1846\n",
      "Epoch 4: val_accuracy improved from 0.93462 to 0.99914, saving model to First_Method_X_Ray_Classification_Model.keras\n",
      "\u001b[1m170/170\u001b[0m \u001b[32m━━━━━━━━━━━━━━━━━━━━\u001b[0m\u001b[37m\u001b[0m \u001b[1m19s\u001b[0m 112ms/step - accuracy: 0.9301 - loss: 0.1845 - val_accuracy: 0.9991 - val_loss: 0.0177 - learning_rate: 0.0010\n",
      "Epoch 5/100\n",
      "\u001b[1m170/170\u001b[0m \u001b[32m━━━━━━━━━━━━━━━━━━━━\u001b[0m\u001b[37m\u001b[0m \u001b[1m0s\u001b[0m 104ms/step - accuracy: 0.9374 - loss: 0.1623\n",
      "Epoch 5: val_accuracy did not improve from 0.99914\n",
      "\u001b[1m170/170\u001b[0m \u001b[32m━━━━━━━━━━━━━━━━━━━━\u001b[0m\u001b[37m\u001b[0m \u001b[1m19s\u001b[0m 110ms/step - accuracy: 0.9374 - loss: 0.1624 - val_accuracy: 0.1974 - val_loss: 1.5949 - learning_rate: 0.0010\n",
      "Epoch 6/100\n",
      "\u001b[1m170/170\u001b[0m \u001b[32m━━━━━━━━━━━━━━━━━━━━\u001b[0m\u001b[37m\u001b[0m \u001b[1m0s\u001b[0m 107ms/step - accuracy: 0.9426 - loss: 0.1611\n",
      "Epoch 6: val_accuracy did not improve from 0.99914\n",
      "\u001b[1m170/170\u001b[0m \u001b[32m━━━━━━━━━━━━━━━━━━━━\u001b[0m\u001b[37m\u001b[0m \u001b[1m19s\u001b[0m 113ms/step - accuracy: 0.9427 - loss: 0.1611 - val_accuracy: 0.8585 - val_loss: 0.3769 - learning_rate: 0.0010\n",
      "Epoch 7/100\n",
      "\u001b[1m170/170\u001b[0m \u001b[32m━━━━━━━━━━━━━━━━━━━━\u001b[0m\u001b[37m\u001b[0m \u001b[1m0s\u001b[0m 106ms/step - accuracy: 0.9408 - loss: 0.1615\n",
      "Epoch 7: ReduceLROnPlateau reducing learning rate to 0.0005000000237487257.\n",
      "\n",
      "Epoch 7: val_accuracy did not improve from 0.99914\n",
      "\u001b[1m170/170\u001b[0m \u001b[32m━━━━━━━━━━━━━━━━━━━━\u001b[0m\u001b[37m\u001b[0m \u001b[1m19s\u001b[0m 113ms/step - accuracy: 0.9407 - loss: 0.1615 - val_accuracy: 0.1067 - val_loss: 2.0663 - learning_rate: 0.0010\n",
      "Epoch 7: early stopping\n"
     ]
    }
   ],
   "source": [
    "history = clfModel.fit(\n",
    "    Xtrain_resampled,\n",
    "    labels_Resampled,\n",
    "    validation_split=0.3,\n",
    "    epochs=100,\n",
    "    callbacks=[early_stopping, lr_scheduler,model_Check]\n",
    ")"
   ]
  },
  {
   "cell_type": "markdown",
   "metadata": {},
   "source": [
    "**Summary** :\n",
    "\n",
    "With the \"val_accuracy\" of \"0.99914\" <- The model correctly classifies \"99.91%\" of validation data.\n",
    "\n",
    "The model performs exceptionally well on both training and validation datasets"
   ]
  },
  {
   "cell_type": "markdown",
   "metadata": {},
   "source": []
  },
  {
   "cell_type": "code",
   "execution_count": 131,
   "metadata": {},
   "outputs": [
    {
     "name": "stderr",
     "output_type": "stream",
     "text": [
      "WARNING:absl:You are saving your model as an HDF5 file via `model.save()` or `keras.saving.save_model(model)`. This file format is considered legacy. We recommend using instead the native Keras format, e.g. `model.save('my_model.keras')` or `keras.saving.save_model(model, 'my_model.keras')`. \n"
     ]
    }
   ],
   "source": [
    "clfModel.save(\"First_Method_X_Ray_Classification_Model.h5\")"
   ]
  },
  {
   "cell_type": "markdown",
   "metadata": {},
   "source": [
    "##### Retrieving the model from the file 'best_model.keras' from ModelCheckpoint."
   ]
  },
  {
   "cell_type": "code",
   "execution_count": 132,
   "metadata": {},
   "outputs": [],
   "source": [
    "best_clfModel = load_model('First_Method_X_Ray_Classification_Model.keras') "
   ]
  },
  {
   "cell_type": "markdown",
   "metadata": {},
   "source": []
  },
  {
   "cell_type": "markdown",
   "metadata": {},
   "source": [
    "### Preparing Test Data for evaluation \n",
    "As we had passed resampled values from SMOTE into the CNN Model our model would require same format of test data input for evaluation.   "
   ]
  },
  {
   "cell_type": "markdown",
   "metadata": {},
   "source": [
    "Here , converting the batches of images and labels from the dataset into single contiguous arrays."
   ]
  },
  {
   "cell_type": "code",
   "execution_count": 168,
   "metadata": {},
   "outputs": [],
   "source": [
    "test_images_list, test_labels_list = [] , []\n",
    "\n",
    "for test_image_files, test_label_files in test_load_Dataset:\n",
    "    test_images_list.append(np.array(test_image_files))\n",
    "    test_labels_list.append(np.array(test_label_files))\n",
    "\n",
    "test_images_array = np.vstack(test_images_list)\n",
    "test_labels_array = np.hstack(test_labels_list)"
   ]
  },
  {
   "cell_type": "markdown",
   "metadata": {},
   "source": [
    "Collected and concatenates all image batches from \"test_load_Dataset\" into one large array (images). Using \"vstack\" for Vertically stacks arrays (images) into a single array.\n",
    "\n",
    "Collected and concatenates all label batches from \"test_load_Dataset\" into one large array (labels). Using \"hstack\" for Horizontally stacks arrays (labels) into a single array."
   ]
  },
  {
   "cell_type": "code",
   "execution_count": 169,
   "metadata": {},
   "outputs": [
    {
     "name": "stdout",
     "output_type": "stream",
     "text": [
      "Printing images array :-\n",
      "[67.98305 67.98305 67.98305]\n"
     ]
    }
   ],
   "source": [
    "print(\"Printing images array :-\")\n",
    "print(test_images_array[0][0][0])"
   ]
  },
  {
   "cell_type": "markdown",
   "metadata": {},
   "source": []
  },
  {
   "cell_type": "markdown",
   "metadata": {},
   "source": [
    "An insight into \"test_images_array\" and \"test_labels_array\""
   ]
  },
  {
   "cell_type": "code",
   "execution_count": 148,
   "metadata": {},
   "outputs": [
    {
     "name": "stdout",
     "output_type": "stream",
     "text": [
      " Type of test_images_array :- <class 'numpy.ndarray'>\n",
      " Shape of test_images_array :- (624, 100, 100, 3) and test_labels_list :- (624,)\n"
     ]
    }
   ],
   "source": [
    "print(f\" Type of test_images_array :- {type(test_images_array)}\")\n",
    "print(f\" Shape of test_images_array :- {test_images_array.shape } and test_labels_list :- {test_labels_array.shape}\")"
   ]
  },
  {
   "cell_type": "markdown",
   "metadata": {},
   "source": []
  },
  {
   "cell_type": "markdown",
   "metadata": {},
   "source": [
    "### Evaluate\n",
    "##### Evaluating the performance of the best_clfModel on the test dataset. Returns the loss and accuracy metrics for the test dataset."
   ]
  },
  {
   "cell_type": "code",
   "execution_count": 170,
   "metadata": {},
   "outputs": [
    {
     "name": "stdout",
     "output_type": "stream",
     "text": [
      "\u001b[1m20/20\u001b[0m \u001b[32m━━━━━━━━━━━━━━━━━━━━\u001b[0m\u001b[37m\u001b[0m \u001b[1m0s\u001b[0m 16ms/step - accuracy: 0.8307 - loss: 0.3923\n"
     ]
    }
   ],
   "source": [
    "first_val_loss , first_val_accuracy = best_clfModel.evaluate(test_images_array,test_labels_array)"
   ]
  },
  {
   "cell_type": "code",
   "execution_count": 171,
   "metadata": {},
   "outputs": [
    {
     "name": "stdout",
     "output_type": "stream",
     "text": [
      "val_accuracy :- 0.8205128312110901 and val_loss :- 0.3937831223011017\n"
     ]
    }
   ],
   "source": [
    "print(f\"val_accuracy :- {first_val_accuracy} and val_loss :- {first_val_loss}\")"
   ]
  },
  {
   "cell_type": "markdown",
   "metadata": {},
   "source": [
    "**Summary** :\n",
    "\n",
    "* Val Accuracy: \"0.8205128312110901\" - The model correctly classifies \"82.05%\" of test data.\n",
    "\n",
    "* Val Loss: \"0.3937831223011017\" - The model's error on the test data.\n",
    "\n",
    "##### The model performs well on unseen data but could be improved for higher accuracy."
   ]
  },
  {
   "cell_type": "markdown",
   "metadata": {},
   "source": []
  },
  {
   "cell_type": "markdown",
   "metadata": {},
   "source": [
    "### Classification Metrics"
   ]
  },
  {
   "cell_type": "markdown",
   "metadata": {},
   "source": [
    "##### Importing the following classification metrics \"accuracy_score, precision_score, recall_score, f1_score, confusion_matrix\"\n",
    "\n",
    "* Accuracy: Proportion of correctly predicted instances.\n",
    "\n",
    "* Precision: Proportion of true positives among predicted positives.\n",
    "\n",
    "* Recall: Proportion of true positives identified among actual positives.\n",
    "\n",
    "* F1 Score: Harmonic mean of precision and recall.\n",
    "\n",
    "* Confusion Matrix: Table showing true positives, true negatives, false positives, and false negatives."
   ]
  },
  {
   "cell_type": "code",
   "execution_count": 176,
   "metadata": {},
   "outputs": [],
   "source": [
    "from sklearn.metrics import accuracy_score, precision_score, recall_score, f1_score, confusion_matrix"
   ]
  },
  {
   "cell_type": "code",
   "execution_count": 177,
   "metadata": {},
   "outputs": [
    {
     "name": "stdout",
     "output_type": "stream",
     "text": [
      "\u001b[1m20/20\u001b[0m \u001b[32m━━━━━━━━━━━━━━━━━━━━\u001b[0m\u001b[37m\u001b[0m \u001b[1m0s\u001b[0m 16ms/step\n"
     ]
    }
   ],
   "source": [
    "first_method_predictions = best_clfModel.predict(test_images_array)\n",
    "first_method_y_pred = np.argmax(first_method_predictions, axis=1)"
   ]
  },
  {
   "cell_type": "code",
   "execution_count": 178,
   "metadata": {},
   "outputs": [],
   "source": [
    "first_method_accuracy = accuracy_score(test_labels_array , first_method_y_pred)\n",
    "first_method_precision = precision_score(test_labels_array , first_method_y_pred) \n",
    "first_method_recall = recall_score(test_labels_array , first_method_y_pred)\n",
    "first_method_f1 = f1_score(test_labels_array , first_method_y_pred)\n",
    "first_method_CM = confusion_matrix(test_labels_array , first_method_y_pred)\n"
   ]
  },
  {
   "cell_type": "code",
   "execution_count": 179,
   "metadata": {},
   "outputs": [
    {
     "name": "stdout",
     "output_type": "stream",
     "text": [
      "Accuracy: 0.8205128205128205\n",
      "Precision: 0.9455128205128205\n",
      "Recall: 0.7564102564102564\n",
      "F1 Score: 0.8404558404558404\n",
      "Confusion Matrix:\n",
      " [[217  17]\n",
      " [ 95 295]]\n"
     ]
    }
   ],
   "source": [
    "print(f\"Accuracy: {first_method_accuracy}\")\n",
    "print(f\"Precision: {first_method_precision}\")\n",
    "print(f\"Recall: {first_method_recall}\")\n",
    "print(f\"F1 Score: {first_method_f1}\")\n",
    "print(f\"Confusion Matrix:\\n {first_method_CM}\")\n"
   ]
  },
  {
   "cell_type": "markdown",
   "metadata": {},
   "source": [
    "**Summary** :\n",
    "\n",
    "* Accuracy: 0.8205: About 82.05% of instances were correctly classified.\n",
    "* Precision: 0.94551: Of the predicted positives, 82.06% were true positives.\n",
    "* Recall: 0.75641: The model correctly identified 96.15% of the actual positives.\n",
    "* F1 Score: 0.84045584: Balance between Precision and Recall.\n",
    "\n",
    "1 . Accuracy: (TP + TN) / (TP + FP + FN + TN)\n",
    "* Accuracy = (295 + 217 ) / (295 + 17 + 95 + 217) = 0.8205128205128205\n",
    "\n",
    "2 . Precision: TP / (TP + FP)\n",
    "* Precision = 295 / (295 + 17) = 0.9455128205128205\n",
    "\n",
    "3 . Recall (Sensitivity): TP / (TP + FN)\n",
    "* Recall = 295 / (295 + 95) = 0.7564102564102564\n",
    "\n",
    "4 . F1 Score: 2 * (Precision * Recall) / (Precision + Recall)\n",
    "* F1 Score = 2 * (0.9455128205128205 * 0.7564102564102564) / (0.9455128205128205 + 0.7564102564102564) = 0.8404558404558404\n",
    "\n",
    "<br>\n",
    "\n",
    "**Confusion Matrix:**\n",
    "\n",
    "* True Negatives (217): Correctly identified negatives.\n",
    "* False Positives (17): Incorrectly identified as positives.\n",
    "* False Negatives (95): Incorrectly identified as negatives.\n",
    "* True Positives (295): Correctly identified positives."
   ]
  },
  {
   "cell_type": "markdown",
   "metadata": {},
   "source": []
  },
  {
   "cell_type": "markdown",
   "metadata": {},
   "source": [
    "### Visualizing the Confusion Matrix"
   ]
  },
  {
   "cell_type": "code",
   "execution_count": 180,
   "metadata": {},
   "outputs": [
    {
     "data": {
      "image/png": "[encoded data removed]",
      "text/plain": [
       "<Figure size 640x480 with 2 Axes>"
      ]
     },
     "metadata": {},
     "output_type": "display_data"
    }
   ],
   "source": [
    "import seaborn as sns\n",
    "import matplotlib.pyplot as plt\n",
    "\n",
    "sns.heatmap(first_method_CM, annot=True, fmt='d', cmap='Blues')\n",
    "plt.xlabel('Predicted')\n",
    "plt.ylabel('Actual')\n",
    "plt.title('Confusion Matrix')\n",
    "plt.show()\n"
   ]
  },
  {
   "cell_type": "markdown",
   "metadata": {},
   "source": [
    "**Observation**\n",
    "\n",
    "* True Negatives (217): Correctly identifying normal X-rays as normal.\n",
    "* False Positives (17): Incorrectly identifying normal X-rays as pneumonia.\n",
    "* False Negatives (95): Incorrectly identifying pneumonia X-rays as normal.\n",
    "* True Positives (295): Correctly identifying pneumonia X-rays as pneumonia."
   ]
  },
  {
   "cell_type": "markdown",
   "metadata": {},
   "source": []
  },
  {
   "cell_type": "markdown",
   "metadata": {},
   "source": [
    "### Ploting the training loss and validation loss over epochs."
   ]
  },
  {
   "cell_type": "code",
   "execution_count": 184,
   "metadata": {},
   "outputs": [
    {
     "data": {
      "image/png": "[encoded data removed]",
      "text/plain": [
       "<Figure size 640x480 with 1 Axes>"
      ]
     },
     "metadata": {},
     "output_type": "display_data"
    }
   ],
   "source": [
    "accuracy, val_accuracy = history.history['loss'], history.history['val_loss']\n",
    "\n",
    "fig = plt.figure()\n",
    "plt.plot(accuracy, color = 'teal', label=' Training Loss')\n",
    "plt.plot(val_accuracy, color = 'orange', label='Validation Loss')\n",
    "plt.title(' Training Loss vs Validation Loss')\n",
    "plt.legend(loc='upper left')\n",
    "plt.show()"
   ]
  },
  {
   "cell_type": "markdown",
   "metadata": {},
   "source": [
    "\n",
    "**Observations** :\n",
    "\n",
    "1. Rapid Initial Learning:\n",
    "* The sharp drop in validation loss during the initial epochs indicates that the model is learning quickly from the validation data.\n",
    "* The training loss starting low and remaining stable suggests that the model generalizes well to unseen data from the beginning.\n",
    "\n"
   ]
  },
  {
   "cell_type": "markdown",
   "metadata": {},
   "source": []
  },
  {
   "cell_type": "markdown",
   "metadata": {},
   "source": [
    "### Ploting the training accuracy and validation accuracy over epochs."
   ]
  },
  {
   "cell_type": "code",
   "execution_count": 185,
   "metadata": {},
   "outputs": [
    {
     "data": {
      "image/png": "[encoded data removed]",
      "text/plain": [
       "<Figure size 640x480 with 1 Axes>"
      ]
     },
     "metadata": {},
     "output_type": "display_data"
    }
   ],
   "source": [
    "accuracy, val_accuracy = history.history['accuracy'], history.history['val_accuracy']\n",
    "\n",
    "fig = plt.figure()\n",
    "plt.plot(accuracy, color = 'red', label='Training Accuracy')\n",
    "plt.plot(val_accuracy, color = 'blue', label='Validation Accuracy')\n",
    "plt.title('Training Accuracy vs Validation Accuracy')\n",
    "plt.legend(loc='upper left')\n",
    "plt.show()"
   ]
  },
  {
   "cell_type": "markdown",
   "metadata": {},
   "source": [
    "Here , the red line represents \"Training Accuracy\" and blue line indicates \"Validation Accuracy\" . \n",
    "\n",
    "**Observations:** : \n",
    "\n",
    "1. Rapid Initial Learning: \n",
    "* The rapid increase in validation accuracy during the initial epochs indicates that the model is learning quickly from the validation data.\n",
    "* The high initial validation accuracy suggests that the model initially generalizes well to unseen data, but the subsequent fluctuations indicate variability in performance.\n",
    "\n",
    "2. Fluctuations in Validation Accuracy:\n",
    "* The significant fluctuations in validation accuracy suggest that the model's performance on unseen data is inconsistent. This could be due to various factors such as the complexity of the validation dataset, the model's sensitivity to the training process, or the need for further regularization.\n",
    "* The fluctuations could also indicate that the model is still adapting to the data and has not fully stabilized.\n",
    "\n",
    "3. Stabilization and Convergence: \n",
    "* The stabilization of training accuracy and the general upward trend in validation accuracy in the later epochs suggest that the model is improving and becoming more consistent.\n"
   ]
  },
  {
   "cell_type": "code",
   "execution_count": null,
   "metadata": {},
   "outputs": [],
   "source": []
  },
  {
   "cell_type": "markdown",
   "metadata": {},
   "source": [
    "### Image Classification Function"
   ]
  },
  {
   "cell_type": "markdown",
   "metadata": {},
   "source": [
    "Loading and preprocesses an image.\n",
    "\n",
    "Using the trained model \"clfModel\" to predict the image's class.\n",
    "\n",
    "Returning the predicted class and confidence score."
   ]
  },
  {
   "cell_type": "code",
   "execution_count": 186,
   "metadata": {},
   "outputs": [],
   "source": [
    "def classify_images(image_path):\n",
    "    input_image = tf.keras.utils.load_img(image_path, target_size=(100,100))\n",
    "    input_image_array = tf.keras.utils.img_to_array(input_image)\n",
    "    input_image_exp_dim = tf.expand_dims(input_image_array,0)\n",
    "\n",
    "    predictions = clfModel.predict(input_image_exp_dim)\n",
    "    result = tf.nn.sigmoid(predictions[0])\n",
    "    outcome = 'The Image belongs to ' + trainClassNames[np.argmax(result)] + ' X-Ray Category with a score of '+ str(np.max(result)*100)\n",
    "    return outcome"
   ]
  },
  {
   "cell_type": "code",
   "execution_count": 187,
   "metadata": {},
   "outputs": [
    {
     "name": "stdout",
     "output_type": "stream",
     "text": [
      "\u001b[1m1/1\u001b[0m \u001b[32m━━━━━━━━━━━━━━━━━━━━\u001b[0m\u001b[37m\u001b[0m \u001b[1m0s\u001b[0m 176ms/step\n"
     ]
    },
    {
     "data": {
      "text/plain": [
       "'The Image belongs to PNEUMONIA X-Ray Category with a score of 15.579067170619965'"
      ]
     },
     "execution_count": 187,
     "metadata": {},
     "output_type": "execute_result"
    }
   ],
   "source": [
    "classify_images(\"Pneumonia Dataset/Sample/PNEUMONIA/person1949_bacteria_4880.jpeg\")"
   ]
  },
  {
   "cell_type": "markdown",
   "metadata": {},
   "source": [
    "The model is able to classify new unseen images with very minor error's. The model have room for improvement. For medical use case this model fits best only for learning purposes. With more quality dataset with appropiate labels this technology can definitely perform way better and accurate."
   ]
  },
  {
   "cell_type": "markdown",
   "metadata": {},
   "source": [
    "."
   ]
  },
  {
   "cell_type": "markdown",
   "metadata": {},
   "source": [
    "."
   ]
  },
  {
   "cell_type": "markdown",
   "metadata": {},
   "source": [
    "."
   ]
  },
  {
   "cell_type": "markdown",
   "metadata": {},
   "source": [
    "."
   ]
  },
  {
   "cell_type": "markdown",
   "metadata": {},
   "source": [
    "."
   ]
  },
  {
   "cell_type": "markdown",
   "metadata": {},
   "source": [
    "."
   ]
  },
  {
   "cell_type": "markdown",
   "metadata": {},
   "source": [
    "."
   ]
  },
  {
   "cell_type": "markdown",
   "metadata": {},
   "source": [
    "## Second Approach\n",
    "### A direct classification"
   ]
  },
  {
   "cell_type": "markdown",
   "metadata": {},
   "source": [
    "##### Let's explore this further to understand how would have model performed without addressing the fact of imbalance. Main goal to take the \"accuracy , val_accuracy and evaluation over test data\" and make a reasonable comparision with balanced data accuracies."
   ]
  },
  {
   "cell_type": "markdown",
   "metadata": {},
   "source": [
    "##### Sets directory path, image size, and batch size for Training Data"
   ]
  },
  {
   "cell_type": "code",
   "execution_count": 381,
   "metadata": {},
   "outputs": [],
   "source": [
    "secMethod_Train_base_dir = \"Pneumonia Dataset/train/\"\n",
    "secMethod_img_size = 100\n",
    "secMethod_batch = 32"
   ]
  },
  {
   "cell_type": "markdown",
   "metadata": {},
   "source": [
    "Using \"image_dataset_from_directory\" for loading image files from \"newTrain_base_dir\" and applying \"batch_size\" and \"image_size\" and saving it into \"newTrainDataset\", also created subset as \"training\" and reserved \"20%\" for \"validation\" using \"validation_split\". This \"newTrainDataset\" will be used for training purposes."
   ]
  },
  {
   "cell_type": "code",
   "execution_count": 382,
   "metadata": {},
   "outputs": [
    {
     "name": "stdout",
     "output_type": "stream",
     "text": [
      "Found 5216 files belonging to 2 classes.\n",
      "Using 4173 files for training.\n"
     ]
    }
   ],
   "source": [
    "secMethod_TrainDataset = tf.keras.utils.image_dataset_from_directory(secMethod_Train_base_dir, seed = 123,\n",
    "validation_split = 0.2 , subset = \"training\" , batch_size=secMethod_batch \n",
    ", image_size=(secMethod_img_size,secMethod_img_size))"
   ]
  },
  {
   "cell_type": "markdown",
   "metadata": {},
   "source": [
    "Using \"image_dataset_from_directory\" for loading image files from \"newTrain_base_dir\" and applying \"batch_size\" and \"image_size\" and saving it into \"newValDataset\", also created subset as \"validation\" and reserved \"20%\" for \"validation\" using \"validation_split\". This \"newValDataset\" wil be used for validation purposes."
   ]
  },
  {
   "cell_type": "code",
   "execution_count": 383,
   "metadata": {},
   "outputs": [
    {
     "name": "stdout",
     "output_type": "stream",
     "text": [
      "Found 5216 files belonging to 2 classes.\n",
      "Using 1043 files for validation.\n"
     ]
    }
   ],
   "source": [
    "secMethod_ValDataset = tf.keras.utils.image_dataset_from_directory(secMethod_Train_base_dir, seed = 123,\n",
    "validation_split = 0.2 , subset = \"validation\" , batch_size=secMethod_batch \n",
    ", image_size=(secMethod_img_size,secMethod_img_size))"
   ]
  },
  {
   "cell_type": "markdown",
   "metadata": {},
   "source": [
    "### Optimizing Data Pipeline"
   ]
  },
  {
   "cell_type": "markdown",
   "metadata": {},
   "source": [
    "AUTOTUNE : Enhances performance by dynamically adjusting data loading based on system capabilities.\n",
    "\n",
    "cache(): Caches data for faster retrieval.\n",
    "\n",
    "shuffle(1000): Randomizes data with a buffer size of 1000.\n",
    "\n",
    "prefetch(buffer_size = AUTOTUNE): Overlaps data preprocessing with model training for efficiency."
   ]
  },
  {
   "cell_type": "code",
   "execution_count": 384,
   "metadata": {},
   "outputs": [],
   "source": [
    "AUTOTUNE = tf.data.AUTOTUNE\n",
    "secMethod_TrainDataset = secMethod_TrainDataset.cache().shuffle(1000).prefetch(buffer_size = AUTOTUNE)\n",
    "secMethod_ValDataset = secMethod_ValDataset.cache().prefetch(buffer_size = AUTOTUNE)"
   ]
  },
  {
   "cell_type": "markdown",
   "metadata": {},
   "source": [
    "### CNN Model For Image Classification."
   ]
  },
  {
   "cell_type": "markdown",
   "metadata": {},
   "source": [
    "##### Components:\n",
    "\n",
    "* dataAugmentation: Applies augmentation to input images.\n",
    "\n",
    "* Conv2D layers: Extracts features with increasing filters (16, 32, 64).\n",
    "\n",
    "* MaxPooling2D layers: Reduces spatial dimensions.\n",
    "\n",
    "* Dropout layers: Prevents overfitting.\n",
    "\n",
    "* Flatten layer: Converts 2D features to 1D.\n",
    "\n",
    "* Dense layers: Performs final classification (128 units, then 2 units).\n",
    "\n",
    "* Activation Function: Using \"relu\" as activation function "
   ]
  },
  {
   "cell_type": "code",
   "execution_count": 385,
   "metadata": {},
   "outputs": [
    {
     "name": "stderr",
     "output_type": "stream",
     "text": [
      "c:\\Users\\Sambhu\\anaconda3\\Lib\\site-packages\\keras\\src\\layers\\preprocessing\\tf_data_layer.py:19: UserWarning: Do not pass an `input_shape`/`input_dim` argument to a layer. When using Sequential models, prefer using an `Input(shape)` object as the first layer in the model instead.\n",
      "  super().__init__(**kwargs)\n"
     ]
    }
   ],
   "source": [
    "secMethod_Model = Sequential([\n",
    "    dataAugmentation,\n",
    "    layers.Rescaling(1./255,input_shape=(100,100,3)),\n",
    "    Conv2D(16,3,padding=\"same\",activation=\"relu\"),\n",
    "    MaxPooling2D(),\n",
    "    Conv2D(32,3,padding=\"same\",activation=\"relu\"),\n",
    "    MaxPooling2D(),\n",
    "    Dropout(0.2),\n",
    "    Conv2D(64,3,padding=\"same\",activation=\"relu\"),\n",
    "    MaxPooling2D(),\n",
    "    Dropout(0.2),\n",
    "    Flatten(),\n",
    "    Dense(128,activation=\"relu\"),\n",
    "    Dense(2)\n",
    "])"
   ]
  },
  {
   "cell_type": "markdown",
   "metadata": {},
   "source": [
    "### Configuring the model for training.\n",
    "\n",
    "##### Components:\n",
    "\n",
    "* Optimizer: Using \"rmsprop\" for efficient gradient-based optimization. (Compared with adam , rmsprop have improved overall performance) \n",
    "\n",
    "* Loss Function: Using Sparse Categorical Crossentropy to measure prediction error for classification.\n",
    "\n",
    "* Metrics: Tracks accuracy during training."
   ]
  },
  {
   "cell_type": "code",
   "execution_count": 386,
   "metadata": {},
   "outputs": [],
   "source": [
    "secMethod_Model.compile(optimizer=\"rmsprop\"\n",
    "              ,loss=tf.keras.losses.SparseCategoricalCrossentropy(from_logits=True),\n",
    "              metrics=[\"accuracy\"])"
   ]
  },
  {
   "cell_type": "markdown",
   "metadata": {},
   "source": [
    "Displaying a summary of the model's architecture using \"summary()\" feature. Layer types, output shapes, and number of parameters for each layer will be returned."
   ]
  },
  {
   "cell_type": "code",
   "execution_count": 387,
   "metadata": {},
   "outputs": [
    {
     "data": {
      "text/html": [
       "<pre style=\"white-space:pre;overflow-x:auto;line-height:normal;font-family:Menlo,'DejaVu Sans Mono',consolas,'Courier New',monospace\"><span style=\"font-weight: bold\">Model: \"sequential_9\"</span>\n",
       "</pre>\n"
      ],
      "text/plain": [
       "\u001b[1mModel: \"sequential_9\"\u001b[0m\n"
      ]
     },
     "metadata": {},
     "output_type": "display_data"
    },
    {
     "data": {
      "text/html": [
       "<pre style=\"white-space:pre;overflow-x:auto;line-height:normal;font-family:Menlo,'DejaVu Sans Mono',consolas,'Courier New',monospace\">┏━━━━━━━━━━━━━━━━━━━━━━━━━━━━━━━━━┳━━━━━━━━━━━━━━━━━━━━━━━━┳━━━━━━━━━━━━━━━┓\n",
       "┃<span style=\"font-weight: bold\"> Layer (type)                    </span>┃<span style=\"font-weight: bold\"> Output Shape           </span>┃<span style=\"font-weight: bold\">       Param # </span>┃\n",
       "┡━━━━━━━━━━━━━━━━━━━━━━━━━━━━━━━━━╇━━━━━━━━━━━━━━━━━━━━━━━━╇━━━━━━━━━━━━━━━┩\n",
       "│ sequential_6 (<span style=\"color: #0087ff; text-decoration-color: #0087ff\">Sequential</span>)       │ (<span style=\"color: #00d7ff; text-decoration-color: #00d7ff\">None</span>, <span style=\"color: #00af00; text-decoration-color: #00af00\">100</span>, <span style=\"color: #00af00; text-decoration-color: #00af00\">100</span>, <span style=\"color: #00af00; text-decoration-color: #00af00\">3</span>)    │             <span style=\"color: #00af00; text-decoration-color: #00af00\">0</span> │\n",
       "├─────────────────────────────────┼────────────────────────┼───────────────┤\n",
       "│ rescaling_1 (<span style=\"color: #0087ff; text-decoration-color: #0087ff\">Rescaling</span>)         │ (<span style=\"color: #00d7ff; text-decoration-color: #00d7ff\">None</span>, <span style=\"color: #00af00; text-decoration-color: #00af00\">100</span>, <span style=\"color: #00af00; text-decoration-color: #00af00\">100</span>, <span style=\"color: #00af00; text-decoration-color: #00af00\">3</span>)    │             <span style=\"color: #00af00; text-decoration-color: #00af00\">0</span> │\n",
       "├─────────────────────────────────┼────────────────────────┼───────────────┤\n",
       "│ conv2d_15 (<span style=\"color: #0087ff; text-decoration-color: #0087ff\">Conv2D</span>)              │ (<span style=\"color: #00d7ff; text-decoration-color: #00d7ff\">None</span>, <span style=\"color: #00af00; text-decoration-color: #00af00\">100</span>, <span style=\"color: #00af00; text-decoration-color: #00af00\">100</span>, <span style=\"color: #00af00; text-decoration-color: #00af00\">16</span>)   │           <span style=\"color: #00af00; text-decoration-color: #00af00\">448</span> │\n",
       "├─────────────────────────────────┼────────────────────────┼───────────────┤\n",
       "│ max_pooling2d_15 (<span style=\"color: #0087ff; text-decoration-color: #0087ff\">MaxPooling2D</span>) │ (<span style=\"color: #00d7ff; text-decoration-color: #00d7ff\">None</span>, <span style=\"color: #00af00; text-decoration-color: #00af00\">50</span>, <span style=\"color: #00af00; text-decoration-color: #00af00\">50</span>, <span style=\"color: #00af00; text-decoration-color: #00af00\">16</span>)     │             <span style=\"color: #00af00; text-decoration-color: #00af00\">0</span> │\n",
       "├─────────────────────────────────┼────────────────────────┼───────────────┤\n",
       "│ conv2d_16 (<span style=\"color: #0087ff; text-decoration-color: #0087ff\">Conv2D</span>)              │ (<span style=\"color: #00d7ff; text-decoration-color: #00d7ff\">None</span>, <span style=\"color: #00af00; text-decoration-color: #00af00\">50</span>, <span style=\"color: #00af00; text-decoration-color: #00af00\">50</span>, <span style=\"color: #00af00; text-decoration-color: #00af00\">32</span>)     │         <span style=\"color: #00af00; text-decoration-color: #00af00\">4,640</span> │\n",
       "├─────────────────────────────────┼────────────────────────┼───────────────┤\n",
       "│ max_pooling2d_16 (<span style=\"color: #0087ff; text-decoration-color: #0087ff\">MaxPooling2D</span>) │ (<span style=\"color: #00d7ff; text-decoration-color: #00d7ff\">None</span>, <span style=\"color: #00af00; text-decoration-color: #00af00\">25</span>, <span style=\"color: #00af00; text-decoration-color: #00af00\">25</span>, <span style=\"color: #00af00; text-decoration-color: #00af00\">32</span>)     │             <span style=\"color: #00af00; text-decoration-color: #00af00\">0</span> │\n",
       "├─────────────────────────────────┼────────────────────────┼───────────────┤\n",
       "│ dropout_10 (<span style=\"color: #0087ff; text-decoration-color: #0087ff\">Dropout</span>)            │ (<span style=\"color: #00d7ff; text-decoration-color: #00d7ff\">None</span>, <span style=\"color: #00af00; text-decoration-color: #00af00\">25</span>, <span style=\"color: #00af00; text-decoration-color: #00af00\">25</span>, <span style=\"color: #00af00; text-decoration-color: #00af00\">32</span>)     │             <span style=\"color: #00af00; text-decoration-color: #00af00\">0</span> │\n",
       "├─────────────────────────────────┼────────────────────────┼───────────────┤\n",
       "│ conv2d_17 (<span style=\"color: #0087ff; text-decoration-color: #0087ff\">Conv2D</span>)              │ (<span style=\"color: #00d7ff; text-decoration-color: #00d7ff\">None</span>, <span style=\"color: #00af00; text-decoration-color: #00af00\">25</span>, <span style=\"color: #00af00; text-decoration-color: #00af00\">25</span>, <span style=\"color: #00af00; text-decoration-color: #00af00\">64</span>)     │        <span style=\"color: #00af00; text-decoration-color: #00af00\">18,496</span> │\n",
       "├─────────────────────────────────┼────────────────────────┼───────────────┤\n",
       "│ max_pooling2d_17 (<span style=\"color: #0087ff; text-decoration-color: #0087ff\">MaxPooling2D</span>) │ (<span style=\"color: #00d7ff; text-decoration-color: #00d7ff\">None</span>, <span style=\"color: #00af00; text-decoration-color: #00af00\">12</span>, <span style=\"color: #00af00; text-decoration-color: #00af00\">12</span>, <span style=\"color: #00af00; text-decoration-color: #00af00\">64</span>)     │             <span style=\"color: #00af00; text-decoration-color: #00af00\">0</span> │\n",
       "├─────────────────────────────────┼────────────────────────┼───────────────┤\n",
       "│ dropout_11 (<span style=\"color: #0087ff; text-decoration-color: #0087ff\">Dropout</span>)            │ (<span style=\"color: #00d7ff; text-decoration-color: #00d7ff\">None</span>, <span style=\"color: #00af00; text-decoration-color: #00af00\">12</span>, <span style=\"color: #00af00; text-decoration-color: #00af00\">12</span>, <span style=\"color: #00af00; text-decoration-color: #00af00\">64</span>)     │             <span style=\"color: #00af00; text-decoration-color: #00af00\">0</span> │\n",
       "├─────────────────────────────────┼────────────────────────┼───────────────┤\n",
       "│ flatten_5 (<span style=\"color: #0087ff; text-decoration-color: #0087ff\">Flatten</span>)             │ (<span style=\"color: #00d7ff; text-decoration-color: #00d7ff\">None</span>, <span style=\"color: #00af00; text-decoration-color: #00af00\">9216</span>)           │             <span style=\"color: #00af00; text-decoration-color: #00af00\">0</span> │\n",
       "├─────────────────────────────────┼────────────────────────┼───────────────┤\n",
       "│ dense_10 (<span style=\"color: #0087ff; text-decoration-color: #0087ff\">Dense</span>)                │ (<span style=\"color: #00d7ff; text-decoration-color: #00d7ff\">None</span>, <span style=\"color: #00af00; text-decoration-color: #00af00\">128</span>)            │     <span style=\"color: #00af00; text-decoration-color: #00af00\">1,179,776</span> │\n",
       "├─────────────────────────────────┼────────────────────────┼───────────────┤\n",
       "│ dense_11 (<span style=\"color: #0087ff; text-decoration-color: #0087ff\">Dense</span>)                │ (<span style=\"color: #00d7ff; text-decoration-color: #00d7ff\">None</span>, <span style=\"color: #00af00; text-decoration-color: #00af00\">2</span>)              │           <span style=\"color: #00af00; text-decoration-color: #00af00\">258</span> │\n",
       "└─────────────────────────────────┴────────────────────────┴───────────────┘\n",
       "</pre>\n"
      ],
      "text/plain": [
       "┏━━━━━━━━━━━━━━━━━━━━━━━━━━━━━━━━━┳━━━━━━━━━━━━━━━━━━━━━━━━┳━━━━━━━━━━━━━━━┓\n",
       "┃\u001b[1m \u001b[0m\u001b[1mLayer (type)                   \u001b[0m\u001b[1m \u001b[0m┃\u001b[1m \u001b[0m\u001b[1mOutput Shape          \u001b[0m\u001b[1m \u001b[0m┃\u001b[1m \u001b[0m\u001b[1m      Param #\u001b[0m\u001b[1m \u001b[0m┃\n",
       "┡━━━━━━━━━━━━━━━━━━━━━━━━━━━━━━━━━╇━━━━━━━━━━━━━━━━━━━━━━━━╇━━━━━━━━━━━━━━━┩\n",
       "│ sequential_6 (\u001b[38;5;33mSequential\u001b[0m)       │ (\u001b[38;5;45mNone\u001b[0m, \u001b[38;5;34m100\u001b[0m, \u001b[38;5;34m100\u001b[0m, \u001b[38;5;34m3\u001b[0m)    │             \u001b[38;5;34m0\u001b[0m │\n",
       "├─────────────────────────────────┼────────────────────────┼───────────────┤\n",
       "│ rescaling_1 (\u001b[38;5;33mRescaling\u001b[0m)         │ (\u001b[38;5;45mNone\u001b[0m, \u001b[38;5;34m100\u001b[0m, \u001b[38;5;34m100\u001b[0m, \u001b[38;5;34m3\u001b[0m)    │             \u001b[38;5;34m0\u001b[0m │\n",
       "├─────────────────────────────────┼────────────────────────┼───────────────┤\n",
       "│ conv2d_15 (\u001b[38;5;33mConv2D\u001b[0m)              │ (\u001b[38;5;45mNone\u001b[0m, \u001b[38;5;34m100\u001b[0m, \u001b[38;5;34m100\u001b[0m, \u001b[38;5;34m16\u001b[0m)   │           \u001b[38;5;34m448\u001b[0m │\n",
       "├─────────────────────────────────┼────────────────────────┼───────────────┤\n",
       "│ max_pooling2d_15 (\u001b[38;5;33mMaxPooling2D\u001b[0m) │ (\u001b[38;5;45mNone\u001b[0m, \u001b[38;5;34m50\u001b[0m, \u001b[38;5;34m50\u001b[0m, \u001b[38;5;34m16\u001b[0m)     │             \u001b[38;5;34m0\u001b[0m │\n",
       "├─────────────────────────────────┼────────────────────────┼───────────────┤\n",
       "│ conv2d_16 (\u001b[38;5;33mConv2D\u001b[0m)              │ (\u001b[38;5;45mNone\u001b[0m, \u001b[38;5;34m50\u001b[0m, \u001b[38;5;34m50\u001b[0m, \u001b[38;5;34m32\u001b[0m)     │         \u001b[38;5;34m4,640\u001b[0m │\n",
       "├─────────────────────────────────┼────────────────────────┼───────────────┤\n",
       "│ max_pooling2d_16 (\u001b[38;5;33mMaxPooling2D\u001b[0m) │ (\u001b[38;5;45mNone\u001b[0m, \u001b[38;5;34m25\u001b[0m, \u001b[38;5;34m25\u001b[0m, \u001b[38;5;34m32\u001b[0m)     │             \u001b[38;5;34m0\u001b[0m │\n",
       "├─────────────────────────────────┼────────────────────────┼───────────────┤\n",
       "│ dropout_10 (\u001b[38;5;33mDropout\u001b[0m)            │ (\u001b[38;5;45mNone\u001b[0m, \u001b[38;5;34m25\u001b[0m, \u001b[38;5;34m25\u001b[0m, \u001b[38;5;34m32\u001b[0m)     │             \u001b[38;5;34m0\u001b[0m │\n",
       "├─────────────────────────────────┼────────────────────────┼───────────────┤\n",
       "│ conv2d_17 (\u001b[38;5;33mConv2D\u001b[0m)              │ (\u001b[38;5;45mNone\u001b[0m, \u001b[38;5;34m25\u001b[0m, \u001b[38;5;34m25\u001b[0m, \u001b[38;5;34m64\u001b[0m)     │        \u001b[38;5;34m18,496\u001b[0m │\n",
       "├─────────────────────────────────┼────────────────────────┼───────────────┤\n",
       "│ max_pooling2d_17 (\u001b[38;5;33mMaxPooling2D\u001b[0m) │ (\u001b[38;5;45mNone\u001b[0m, \u001b[38;5;34m12\u001b[0m, \u001b[38;5;34m12\u001b[0m, \u001b[38;5;34m64\u001b[0m)     │             \u001b[38;5;34m0\u001b[0m │\n",
       "├─────────────────────────────────┼────────────────────────┼───────────────┤\n",
       "│ dropout_11 (\u001b[38;5;33mDropout\u001b[0m)            │ (\u001b[38;5;45mNone\u001b[0m, \u001b[38;5;34m12\u001b[0m, \u001b[38;5;34m12\u001b[0m, \u001b[38;5;34m64\u001b[0m)     │             \u001b[38;5;34m0\u001b[0m │\n",
       "├─────────────────────────────────┼────────────────────────┼───────────────┤\n",
       "│ flatten_5 (\u001b[38;5;33mFlatten\u001b[0m)             │ (\u001b[38;5;45mNone\u001b[0m, \u001b[38;5;34m9216\u001b[0m)           │             \u001b[38;5;34m0\u001b[0m │\n",
       "├─────────────────────────────────┼────────────────────────┼───────────────┤\n",
       "│ dense_10 (\u001b[38;5;33mDense\u001b[0m)                │ (\u001b[38;5;45mNone\u001b[0m, \u001b[38;5;34m128\u001b[0m)            │     \u001b[38;5;34m1,179,776\u001b[0m │\n",
       "├─────────────────────────────────┼────────────────────────┼───────────────┤\n",
       "│ dense_11 (\u001b[38;5;33mDense\u001b[0m)                │ (\u001b[38;5;45mNone\u001b[0m, \u001b[38;5;34m2\u001b[0m)              │           \u001b[38;5;34m258\u001b[0m │\n",
       "└─────────────────────────────────┴────────────────────────┴───────────────┘\n"
      ]
     },
     "metadata": {},
     "output_type": "display_data"
    },
    {
     "data": {
      "text/html": [
       "<pre style=\"white-space:pre;overflow-x:auto;line-height:normal;font-family:Menlo,'DejaVu Sans Mono',consolas,'Courier New',monospace\"><span style=\"font-weight: bold\"> Total params: </span><span style=\"color: #00af00; text-decoration-color: #00af00\">1,203,618</span> (4.59 MB)\n",
       "</pre>\n"
      ],
      "text/plain": [
       "\u001b[1m Total params: \u001b[0m\u001b[38;5;34m1,203,618\u001b[0m (4.59 MB)\n"
      ]
     },
     "metadata": {},
     "output_type": "display_data"
    },
    {
     "data": {
      "text/html": [
       "<pre style=\"white-space:pre;overflow-x:auto;line-height:normal;font-family:Menlo,'DejaVu Sans Mono',consolas,'Courier New',monospace\"><span style=\"font-weight: bold\"> Trainable params: </span><span style=\"color: #00af00; text-decoration-color: #00af00\">1,203,618</span> (4.59 MB)\n",
       "</pre>\n"
      ],
      "text/plain": [
       "\u001b[1m Trainable params: \u001b[0m\u001b[38;5;34m1,203,618\u001b[0m (4.59 MB)\n"
      ]
     },
     "metadata": {},
     "output_type": "display_data"
    },
    {
     "data": {
      "text/html": [
       "<pre style=\"white-space:pre;overflow-x:auto;line-height:normal;font-family:Menlo,'DejaVu Sans Mono',consolas,'Courier New',monospace\"><span style=\"font-weight: bold\"> Non-trainable params: </span><span style=\"color: #00af00; text-decoration-color: #00af00\">0</span> (0.00 B)\n",
       "</pre>\n"
      ],
      "text/plain": [
       "\u001b[1m Non-trainable params: \u001b[0m\u001b[38;5;34m0\u001b[0m (0.00 B)\n"
      ]
     },
     "metadata": {},
     "output_type": "display_data"
    }
   ],
   "source": [
    "secMethod_Model.summary()"
   ]
  },
  {
   "cell_type": "markdown",
   "metadata": {},
   "source": [
    "Summary:\n",
    "\n",
    "1. Total params: Total parameters in the model (trainable + optimizer). For newModel there are \"1,203,618\" total params.\n",
    "\n",
    "2. Trainable params: Parameters updated during training , there are \"1,203,618\"  trainable params for newModel.\n",
    "\n",
    "3. Non-trainable params: Parameters not updated during training. There are \"0\" Non-trainable params. "
   ]
  },
  {
   "cell_type": "markdown",
   "metadata": {},
   "source": [
    "### Callback Function"
   ]
  },
  {
   "cell_type": "code",
   "execution_count": 388,
   "metadata": {},
   "outputs": [],
   "source": [
    "early_stopping = EarlyStopping(monitor='val_loss', patience=3, mode='min', verbose=1)\n",
    "lr_scheduler = ReduceLROnPlateau(monitor='val_loss', factor=0.5, patience=3, verbose=1)\n",
    "model_Check = ModelCheckpoint('secMethod_Model.keras',monitor='val_accuracy',save_best_only=True,mode='max',verbose=1)"
   ]
  },
  {
   "cell_type": "markdown",
   "metadata": {},
   "source": [
    "Summary :\n",
    "\n",
    "1. EarlyStopping: Stops training when validation loss stops improving, with a patience of 3 epochs.\n",
    "2. ReduceLROnPlateau: Reduces learning rate by a factor of 0.5 when validation loss plateaus, with a patience of 3 epochs.\n",
    "3.ModelCheckpoin: Saves the model with the best validation accuracy to 'best_model.keras'.\n",
    "\n",
    "These callbacks help improve model performance and efficiency during training! "
   ]
  },
  {
   "cell_type": "markdown",
   "metadata": {},
   "source": [
    "### Training the model  "
   ]
  },
  {
   "cell_type": "markdown",
   "metadata": {},
   "source": [
    "Components:\n",
    "\n",
    "* newTrainDataset : Training data.\n",
    "* newValDataset : Validation data.\n",
    "* epochs=100: Runs training for up to 100 epochs.\n",
    "* callbacks: Uses early stopping, learning rate reduction, and model checkpointing to enhance training."
   ]
  },
  {
   "cell_type": "code",
   "execution_count": 396,
   "metadata": {},
   "outputs": [
    {
     "name": "stdout",
     "output_type": "stream",
     "text": [
      "Epoch 1/100\n",
      "\u001b[1m131/131\u001b[0m \u001b[32m━━━━━━━━━━━━━━━━━━━━\u001b[0m\u001b[37m\u001b[0m \u001b[1m0s\u001b[0m 43ms/step - accuracy: 0.9638 - loss: 0.0991\n",
      "Epoch 1: val_accuracy did not improve from 0.96836\n",
      "\u001b[1m131/131\u001b[0m \u001b[32m━━━━━━━━━━━━━━━━━━━━\u001b[0m\u001b[37m\u001b[0m \u001b[1m6s\u001b[0m 46ms/step - accuracy: 0.9638 - loss: 0.0990 - val_accuracy: 0.9636 - val_loss: 0.0945 - learning_rate: 6.2500e-05\n",
      "Epoch 2/100\n",
      "\u001b[1m130/131\u001b[0m \u001b[32m━━━━━━━━━━━━━━━━━━━\u001b[0m\u001b[37m━\u001b[0m \u001b[1m0s\u001b[0m 42ms/step - accuracy: 0.9604 - loss: 0.0976\n",
      "Epoch 2: val_accuracy did not improve from 0.96836\n",
      "\u001b[1m131/131\u001b[0m \u001b[32m━━━━━━━━━━━━━━━━━━━━\u001b[0m\u001b[37m\u001b[0m \u001b[1m6s\u001b[0m 45ms/step - accuracy: 0.9604 - loss: 0.0975 - val_accuracy: 0.9597 - val_loss: 0.1031 - learning_rate: 6.2500e-05\n",
      "Epoch 3/100\n",
      "\u001b[1m130/131\u001b[0m \u001b[32m━━━━━━━━━━━━━━━━━━━\u001b[0m\u001b[37m━\u001b[0m \u001b[1m0s\u001b[0m 42ms/step - accuracy: 0.9686 - loss: 0.0854\n",
      "Epoch 3: val_accuracy did not improve from 0.96836\n",
      "\u001b[1m131/131\u001b[0m \u001b[32m━━━━━━━━━━━━━━━━━━━━\u001b[0m\u001b[37m\u001b[0m \u001b[1m6s\u001b[0m 44ms/step - accuracy: 0.9685 - loss: 0.0854 - val_accuracy: 0.9626 - val_loss: 0.0989 - learning_rate: 6.2500e-05\n",
      "Epoch 4/100\n",
      "\u001b[1m131/131\u001b[0m \u001b[32m━━━━━━━━━━━━━━━━━━━━\u001b[0m\u001b[37m\u001b[0m \u001b[1m0s\u001b[0m 43ms/step - accuracy: 0.9655 - loss: 0.0834\n",
      "Epoch 4: val_accuracy did not improve from 0.96836\n",
      "\u001b[1m131/131\u001b[0m \u001b[32m━━━━━━━━━━━━━━━━━━━━\u001b[0m\u001b[37m\u001b[0m \u001b[1m6s\u001b[0m 46ms/step - accuracy: 0.9655 - loss: 0.0834 - val_accuracy: 0.9636 - val_loss: 0.0901 - learning_rate: 6.2500e-05\n",
      "Epoch 5/100\n",
      "\u001b[1m131/131\u001b[0m \u001b[32m━━━━━━━━━━━━━━━━━━━━\u001b[0m\u001b[37m\u001b[0m \u001b[1m0s\u001b[0m 43ms/step - accuracy: 0.9660 - loss: 0.0910\n",
      "Epoch 5: val_accuracy did not improve from 0.96836\n",
      "\u001b[1m131/131\u001b[0m \u001b[32m━━━━━━━━━━━━━━━━━━━━\u001b[0m\u001b[37m\u001b[0m \u001b[1m6s\u001b[0m 45ms/step - accuracy: 0.9660 - loss: 0.0910 - val_accuracy: 0.9645 - val_loss: 0.0885 - learning_rate: 6.2500e-05\n",
      "Epoch 6/100\n",
      "\u001b[1m131/131\u001b[0m \u001b[32m━━━━━━━━━━━━━━━━━━━━\u001b[0m\u001b[37m\u001b[0m \u001b[1m0s\u001b[0m 42ms/step - accuracy: 0.9752 - loss: 0.0711\n",
      "Epoch 6: val_accuracy did not improve from 0.96836\n",
      "\u001b[1m131/131\u001b[0m \u001b[32m━━━━━━━━━━━━━━━━━━━━\u001b[0m\u001b[37m\u001b[0m \u001b[1m6s\u001b[0m 44ms/step - accuracy: 0.9751 - loss: 0.0712 - val_accuracy: 0.9655 - val_loss: 0.0822 - learning_rate: 6.2500e-05\n",
      "Epoch 7/100\n",
      "\u001b[1m131/131\u001b[0m \u001b[32m━━━━━━━━━━━━━━━━━━━━\u001b[0m\u001b[37m\u001b[0m \u001b[1m0s\u001b[0m 42ms/step - accuracy: 0.9702 - loss: 0.0741\n",
      "Epoch 7: val_accuracy did not improve from 0.96836\n",
      "\u001b[1m131/131\u001b[0m \u001b[32m━━━━━━━━━━━━━━━━━━━━\u001b[0m\u001b[37m\u001b[0m \u001b[1m6s\u001b[0m 44ms/step - accuracy: 0.9702 - loss: 0.0741 - val_accuracy: 0.9645 - val_loss: 0.0956 - learning_rate: 6.2500e-05\n",
      "Epoch 8/100\n",
      "\u001b[1m131/131\u001b[0m \u001b[32m━━━━━━━━━━━━━━━━━━━━\u001b[0m\u001b[37m\u001b[0m \u001b[1m0s\u001b[0m 42ms/step - accuracy: 0.9641 - loss: 0.0824\n",
      "Epoch 8: val_accuracy did not improve from 0.96836\n",
      "\u001b[1m131/131\u001b[0m \u001b[32m━━━━━━━━━━━━━━━━━━━━\u001b[0m\u001b[37m\u001b[0m \u001b[1m6s\u001b[0m 44ms/step - accuracy: 0.9641 - loss: 0.0824 - val_accuracy: 0.9645 - val_loss: 0.0883 - learning_rate: 6.2500e-05\n",
      "Epoch 9/100\n",
      "\u001b[1m130/131\u001b[0m \u001b[32m━━━━━━━━━━━━━━━━━━━\u001b[0m\u001b[37m━\u001b[0m \u001b[1m0s\u001b[0m 42ms/step - accuracy: 0.9648 - loss: 0.0908\n",
      "Epoch 9: ReduceLROnPlateau reducing learning rate to 3.125000148429535e-05.\n",
      "\n",
      "Epoch 9: val_accuracy did not improve from 0.96836\n",
      "\u001b[1m131/131\u001b[0m \u001b[32m━━━━━━━━━━━━━━━━━━━━\u001b[0m\u001b[37m\u001b[0m \u001b[1m6s\u001b[0m 44ms/step - accuracy: 0.9648 - loss: 0.0906 - val_accuracy: 0.9655 - val_loss: 0.0844 - learning_rate: 6.2500e-05\n",
      "Epoch 9: early stopping\n"
     ]
    }
   ],
   "source": [
    "secMethod_history = secMethod_Model.fit(secMethod_TrainDataset,epochs=100,validation_data=secMethod_ValDataset,callbacks=[early_stopping, lr_scheduler,model_Check])"
   ]
  },
  {
   "cell_type": "markdown",
   "metadata": {},
   "source": [
    "**Summary** :\n",
    "\n",
    "With the \"val_accuracy\" of \"0.96836\" <- The model correctly classifies \"96.84%\" of validation data.\n",
    "\n",
    "The model performs exceptionally well on both training and validation datasets"
   ]
  },
  {
   "cell_type": "markdown",
   "metadata": {},
   "source": []
  },
  {
   "cell_type": "markdown",
   "metadata": {},
   "source": [
    "##### Retrieving the model from the file 'new_model.keras' from ModelCheckpoint."
   ]
  },
  {
   "cell_type": "code",
   "execution_count": 397,
   "metadata": {},
   "outputs": [],
   "source": [
    "secMethod_NewModel = load_model('secMethod_Model.keras')"
   ]
  },
  {
   "cell_type": "markdown",
   "metadata": {},
   "source": [
    "### Evaluate\n",
    "##### Evaluating the performance of the new_model on the test dataset. Returns the loss and accuracy metrics for the test dataset."
   ]
  },
  {
   "cell_type": "code",
   "execution_count": 398,
   "metadata": {},
   "outputs": [
    {
     "name": "stdout",
     "output_type": "stream",
     "text": [
      "\u001b[1m20/20\u001b[0m \u001b[32m━━━━━━━━━━━━━━━━━━━━\u001b[0m\u001b[37m\u001b[0m \u001b[1m2s\u001b[0m 52ms/step - accuracy: 0.8380 - loss: 0.4490\n"
     ]
    }
   ],
   "source": [
    "secMethod_valLoss, secMethod_valAccuracy = secMethod_NewModel.evaluate(test_load_Dataset)"
   ]
  },
  {
   "cell_type": "code",
   "execution_count": 399,
   "metadata": {},
   "outputs": [
    {
     "name": "stdout",
     "output_type": "stream",
     "text": [
      "val_accuracy :- 0.8461538553237915 and val_loss :- 0.4840981960296631\n"
     ]
    }
   ],
   "source": [
    "print(f\"val_accuracy :- {secMethod_valAccuracy} and val_loss :- {secMethod_valLoss}\")"
   ]
  },
  {
   "cell_type": "markdown",
   "metadata": {},
   "source": [
    "**Summary** :\n",
    "\n",
    "* Val Accuracy: \"0.8461538553237915\" - The model correctly classifies \"84.62%\" of test data.\n",
    "\n",
    "* Val Loss: \"0.4840981960296631\" - The model's error on the test data.\n",
    "\n",
    "##### The model performs well on unseen data but could be improved for higher accuracy."
   ]
  },
  {
   "cell_type": "markdown",
   "metadata": {},
   "source": []
  },
  {
   "cell_type": "markdown",
   "metadata": {},
   "source": [
    "### Classification Metrics"
   ]
  },
  {
   "cell_type": "markdown",
   "metadata": {},
   "source": [
    "##### Importing the following classification metrics \"accuracy_score, precision_score, recall_score, f1_score, confusion_matrix\"\n",
    "\n",
    "* Accuracy: Proportion of correctly predicted instances.\n",
    "\n",
    "* Precision: Proportion of true positives among predicted positives.\n",
    "\n",
    "* Recall: Proportion of true positives identified among actual positives.\n",
    "\n",
    "* F1 Score: Harmonic mean of precision and recall.\n",
    "\n",
    "* Confusion Matrix: Table showing true positives, true negatives, false positives, and false negatives."
   ]
  },
  {
   "cell_type": "code",
   "execution_count": 404,
   "metadata": {},
   "outputs": [],
   "source": [
    "from sklearn.metrics import accuracy_score, precision_score, recall_score, f1_score, confusion_matrix, roc_auc_score"
   ]
  },
  {
   "cell_type": "code",
   "execution_count": 405,
   "metadata": {},
   "outputs": [
    {
     "name": "stdout",
     "output_type": "stream",
     "text": [
      "\u001b[1m20/20\u001b[0m \u001b[32m━━━━━━━━━━━━━━━━━━━━\u001b[0m\u001b[37m\u001b[0m \u001b[1m1s\u001b[0m 35ms/step\n"
     ]
    }
   ],
   "source": [
    "secMethod_predictions = secMethod_NewModel.predict(test_load_Dataset)\n",
    "secMethod_y_pred = np.argmax(secMethod_predictions, axis=1)\n"
   ]
  },
  {
   "cell_type": "markdown",
   "metadata": {},
   "source": [
    "### Converting Batch Labels to Single Array"
   ]
  },
  {
   "cell_type": "markdown",
   "metadata": {},
   "source": [
    "* Initialize List: Created an empty list secMethod_labels.\n",
    "* Loop Through Dataset: Iterated over batches in test_load_Dataset.\n",
    "* Append Labels: Converted batch labels to numpy arrays and append to the list.\n",
    "* Flatten Array: Converted the list of arrays into a single numpy array."
   ]
  },
  {
   "cell_type": "code",
   "execution_count": 410,
   "metadata": {},
   "outputs": [],
   "source": [
    "secMethod_labels = []\n",
    "for images , labels in test_load_Dataset:\n",
    "    secMethod_labels.append(labels.numpy())\n",
    "    \n",
    "secMethod_labels_array = np.hstack(secMethod_labels)"
   ]
  },
  {
   "cell_type": "markdown",
   "metadata": {},
   "source": [
    "##### An insight into secMethod_labels_array"
   ]
  },
  {
   "cell_type": "code",
   "execution_count": 423,
   "metadata": {},
   "outputs": [
    {
     "name": "stdout",
     "output_type": "stream",
     "text": [
      "Length of 'secMethod_labels_array' :-  624\n",
      "Type of 'secMethod_labels_array' :-  <class 'numpy.ndarray'>\n",
      " 'secMethod_labels_array' :-  [1 1 1 1 1 0 1 0 1 0]\n"
     ]
    }
   ],
   "source": [
    "print(\"Length of 'secMethod_labels_array' :- \",len(secMethod_labels_array))\n",
    "print(\"Type of 'secMethod_labels_array' :- \",type(secMethod_labels_array))\n",
    "print(\" 'secMethod_labels_array' :- \",secMethod_labels_array[0:10])"
   ]
  },
  {
   "cell_type": "code",
   "execution_count": 411,
   "metadata": {},
   "outputs": [],
   "source": [
    "secMethod_accuracy = accuracy_score(secMethod_labels_array, secMethod_y_pred)\n",
    "secMethod_precision = precision_score(secMethod_labels_array, secMethod_y_pred) \n",
    "secMethod_recall = recall_score(secMethod_labels_array, secMethod_y_pred)\n",
    "secMethod_f1 = f1_score(secMethod_labels_array, secMethod_y_pred)\n",
    "secMethod_CM = confusion_matrix(secMethod_labels_array, secMethod_y_pred)"
   ]
  },
  {
   "cell_type": "code",
   "execution_count": 412,
   "metadata": {},
   "outputs": [
    {
     "name": "stdout",
     "output_type": "stream",
     "text": [
      "Accuracy: 0.5544871794871795\n",
      "Precision: 0.6171548117154811\n",
      "Recall: 0.7564102564102564\n",
      "F1 Score: 0.6797235023041475\n",
      "Confusion Matrix:\n",
      " [[ 51 183]\n",
      " [ 95 295]]\n"
     ]
    }
   ],
   "source": [
    "print(f\"Accuracy: {secMethod_accuracy}\")\n",
    "print(f\"Precision: {secMethod_precision}\")\n",
    "print(f\"Recall: {secMethod_recall}\")\n",
    "print(f\"F1 Score: {secMethod_f1}\")\n",
    "print(f\"Confusion Matrix:\\n {secMethod_CM}\")"
   ]
  },
  {
   "cell_type": "markdown",
   "metadata": {},
   "source": [
    "**Summary** :\n",
    "\n",
    "* Accuracy: 0.5545: About 55.45% of instances were correctly classified.\n",
    "* Precision: 0.6172: Of the predicted positives, 61.72% were true positives.\n",
    "* Recall: 0.7564: The model correctly identified 75.64% of the actual positives.\n",
    "* F1 Score: 0.6797: Balance between Precision and Recall.\n",
    "\n",
    "1 . Accuracy: (TP + TN) / (TP + FP + FN + TN)\n",
    "* Accuracy = (295 + 51) / (295 + 51 + 183 + 95) = 346 / 624 = 0.554 or 55.4%\n",
    "\n",
    "2 . Precision: TP / (TP + FP)\n",
    "* Precision = 295 / (295 + 183) = 295 / 478 = 0.617 or 61.7%\n",
    "\n",
    "3 . Recall (Sensitivity): TP / (TP + FN)\n",
    "* Recall = 295 / (295 + 95) = 295 / 390 = 0.756 or 75.6%\n",
    "\n",
    "4 . F1 Score: 2 * (Precision * Recall) / (Precision + Recall)\n",
    "* F1 Score = 2 * (0.617 * 0.756) / (0.617 + 0.756) = 0.679 or 67.9%\n",
    "\n",
    "<br><br>\n",
    "\n",
    "Confusion Matrix:\n",
    "\n",
    "* True Negatives (51): Correctly identified negatives.\n",
    "* False Positives (183): Incorrectly identified as positives.\n",
    "* False Negatives (95): Incorrectly identified as negatives.\n",
    "* True Positives (295): Correctly identified positives.\n",
    "\n"
   ]
  },
  {
   "cell_type": "markdown",
   "metadata": {},
   "source": [
    "."
   ]
  },
  {
   "cell_type": "markdown",
   "metadata": {},
   "source": [
    "### Visualizing the Confusion Matrix"
   ]
  },
  {
   "cell_type": "code",
   "execution_count": 425,
   "metadata": {},
   "outputs": [
    {
     "data": {
      "image/png": "[encoded data removed]",
      "text/plain": [
       "<Figure size 640x480 with 2 Axes>"
      ]
     },
     "metadata": {},
     "output_type": "display_data"
    }
   ],
   "source": [
    "sns.heatmap(secMethod_CM, annot=True, fmt='d', cmap='Blues')\n",
    "plt.xlabel('Predicted')\n",
    "plt.ylabel('Actual')\n",
    "plt.title('Confusion Matrix')\n",
    "plt.show()"
   ]
  },
  {
   "cell_type": "markdown",
   "metadata": {},
   "source": [
    "Confusion Matrix:\n",
    "\n",
    "* True Negatives (51): Correctly identified normal X-rays.\n",
    "* False Positives (183): Incorrectly identified normal X-rays as pneumonia.\n",
    "* False Negatives (95): Incorrectly identified pneumonia X-rays as normal.\n",
    "* True Positives (295): Correctly identified pneumonia X-rays."
   ]
  },
  {
   "cell_type": "code",
   "execution_count": null,
   "metadata": {},
   "outputs": [],
   "source": []
  },
  {
   "cell_type": "markdown",
   "metadata": {},
   "source": [
    "### Ploting the training loss and validation loss over epochs."
   ]
  },
  {
   "cell_type": "code",
   "execution_count": 419,
   "metadata": {},
   "outputs": [
    {
     "data": {
      "image/png": "[encoded data removed]",
      "text/plain": [
       "<Figure size 640x480 with 1 Axes>"
      ]
     },
     "metadata": {},
     "output_type": "display_data"
    }
   ],
   "source": [
    "accuracy, val_accuracy = secMethod_history.history['loss'], secMethod_history.history['val_loss']\n",
    "\n",
    "fig = plt.figure()\n",
    "plt.plot(accuracy, color = 'teal', label='Training Loss')\n",
    "plt.plot(val_accuracy, color = 'orange', label='Validation Loss')\n",
    "plt.title('Training Loss vs Validation Loss')\n",
    "plt.legend(loc='upper left')\n",
    "plt.show()"
   ]
  },
  {
   "cell_type": "markdown",
   "metadata": {},
   "source": [
    "**Observations** :\n",
    "\n",
    "1. Recovery: \n",
    "* The sharp decrease in validation loss after epoch 4 indicates that the model might be recovering from overfitting, possibly due to adjustments in the training process (e.g. dropout, or learning rate adjustments).\n",
    "\n",
    "2. Convergence: \n",
    "* By epoch 6, both training and validation losses are decreasing and converging, which is a desirable outcome as it indicates that the model is generalizing well to unseen data.\n",
    "\n",
    "The graph suggests that the model initially experienced some overfitting but eventually improved its generalization performance. There is still room for better performance and stability.\n"
   ]
  },
  {
   "cell_type": "markdown",
   "metadata": {},
   "source": []
  },
  {
   "cell_type": "markdown",
   "metadata": {},
   "source": [
    "### Ploting the training accuracy and validation accuracy over epochs."
   ]
  },
  {
   "cell_type": "code",
   "execution_count": 418,
   "metadata": {},
   "outputs": [
    {
     "data": {
      "image/png": "[encoded data removed]",
      "text/plain": [
       "<Figure size 640x480 with 1 Axes>"
      ]
     },
     "metadata": {},
     "output_type": "display_data"
    }
   ],
   "source": [
    "accuracy, val_accuracy = secMethod_history.history['accuracy'], secMethod_history.history['val_accuracy']\n",
    "\n",
    "fig = plt.figure()\n",
    "plt.plot(accuracy, color = 'red', label='Training Accuracy')\n",
    "plt.plot(val_accuracy, color = 'blue', label='Validation Accuracy')\n",
    "fig.suptitle('Training Accuracy vs Validation Accuracy')\n",
    "plt.legend(loc='upper left')\n",
    "plt.show()"
   ]
  },
  {
   "cell_type": "markdown",
   "metadata": {},
   "source": [
    "**Observations** :\n",
    "\n",
    "1. Recovery: \n",
    "* The increase in validation accuracy after epoch 2 indicates that the model might be recovering from overfitting.\n",
    "\n",
    "2. Convergence: \n",
    "* By epoch 7, the training accuracy have increased, and the validation accuracy is increasing,the model is generalizing better to unseen data.\n",
    "\n",
    "\n",
    "The graph suggests that the model initially experienced some overfitting but eventually improved its generalization performance. There is still room for better performance and stability.\n",
    "\n"
   ]
  },
  {
   "cell_type": "markdown",
   "metadata": {},
   "source": [
    "."
   ]
  },
  {
   "cell_type": "markdown",
   "metadata": {},
   "source": [
    "### Image Classification Function"
   ]
  },
  {
   "cell_type": "markdown",
   "metadata": {},
   "source": [
    "Loading and preprocesses an image.\n",
    "\n",
    "Using the trained model \"clfModel\" to predict the image's class.\n",
    "\n",
    "Returning the predicted class and confidence score."
   ]
  },
  {
   "cell_type": "code",
   "execution_count": 426,
   "metadata": {},
   "outputs": [],
   "source": [
    "def classify_images(image_path):\n",
    "    input_image = tf.keras.utils.load_img(image_path, target_size=(100,100))\n",
    "    input_image_array = tf.keras.utils.img_to_array(input_image)\n",
    "    input_image_exp_dim = tf.expand_dims(input_image_array,0)\n",
    "\n",
    "    predictions = secMethod_NewModel.predict(input_image_exp_dim)\n",
    "    result = tf.nn.sigmoid(predictions[0])\n",
    "    outcome = 'The Image belongs to ' + trainClassNames[np.argmax(result)] + ' X-Ray Category with a score of '+ str(np.max(result)*100)\n",
    "    return outcome "
   ]
  },
  {
   "cell_type": "code",
   "execution_count": 427,
   "metadata": {},
   "outputs": [
    {
     "name": "stdout",
     "output_type": "stream",
     "text": [
      "\u001b[1m1/1\u001b[0m \u001b[32m━━━━━━━━━━━━━━━━━━━━\u001b[0m\u001b[37m\u001b[0m \u001b[1m0s\u001b[0m 106ms/step\n"
     ]
    },
    {
     "data": {
      "text/plain": [
       "'The Image belongs to PNEUMONIA X-Ray Category with a score of 94.82844471931458'"
      ]
     },
     "execution_count": 427,
     "metadata": {},
     "output_type": "execute_result"
    }
   ],
   "source": [
    "classify_images(\"Pneumonia Dataset/Sample/PNEUMONIA/person1949_bacteria_4880.jpeg\") "
   ]
  },
  {
   "cell_type": "markdown",
   "metadata": {},
   "source": [
    "The model have correctly classified the unseen image with a score of \"94.82844471931458\""
   ]
  },
  {
   "cell_type": "markdown",
   "metadata": {},
   "source": [
    "."
   ]
  },
  {
   "cell_type": "markdown",
   "metadata": {},
   "source": [
    "**Conclusion** :\n",
    "\n",
    "##### First Approach(Model) By Handling Data Imbalance :\n",
    "\n",
    "**Summary** :\n",
    "\n",
    "* Accuracy: 0.8205: About 82.05% of instances were correctly classified.\n",
    "* Precision: 0.94551: Of the predicted positives, 82.06% were true positives.\n",
    "* Recall: 0.75641: The model correctly identified 96.15% of the actual positives.\n",
    "* F1 Score: 0.84045584: Balance between Precision and Recall.\n",
    "\n",
    "**Confusion Matrix:**\n",
    "\n",
    "* True Negatives (217): Correctly identified negatives.\n",
    "* False Positives (17): Incorrectly identified as positives.\n",
    "* False Negatives (95): Incorrectly identified as negatives.\n",
    "* True Positives (295): Correctly identified positives.\n",
    "\n",
    "\n",
    "##### Second Approach(Model) A direct approach :\n",
    "\n",
    "Accuracy Scores :\n",
    "\n",
    "* Accuracy: 0.5545: About 55.45% of instances were correctly classified.\n",
    "* Precision: 0.6172: Of the predicted positives, 61.72% were true positives.\n",
    "* Recall: 0.7564: The model correctly identified 75.64% of the actual positives.\n",
    "* F1 Score: 0.6797: Balance between Precision and Recall.\n",
    "\n",
    "Confusion Matrix :\n",
    "\n",
    "* True Negatives (51): Correctly identified normal X-rays.\n",
    "* False Positives (183): Incorrectly identified normal X-rays as pneumonia.\n",
    "* False Negatives (95): Incorrectly identified pneumonia X-rays as normal.\n",
    "* True Positives (295): Correctly identified pneumonia X-rays.\n",
    "\n",
    "\n"
   ]
  },
  {
   "cell_type": "markdown",
   "metadata": {},
   "source": [
    "."
   ]
  },
  {
   "cell_type": "code",
   "execution_count": null,
   "metadata": {},
   "outputs": [],
   "source": []
  },
  {
   "cell_type": "code",
   "execution_count": null,
   "metadata": {},
   "outputs": [],
   "source": []
  },
  {
   "cell_type": "code",
   "execution_count": null,
   "metadata": {},
   "outputs": [],
   "source": []
  },
  {
   "cell_type": "code",
   "execution_count": null,
   "metadata": {},
   "outputs": [],
   "source": []
  }
 ],
 "metadata": {
  "kernelspec": {
   "display_name": "base",
   "language": "python",
   "name": "python3"
  },
  "language_info": {
   "codemirror_mode": {
    "name": "ipython",
    "version": 3
   },
   "file_extension": ".py",
   "mimetype": "text/x-python",
   "name": "python",
   "nbconvert_exporter": "python",
   "pygments_lexer": "ipython3",
   "version": "3.11.7"
  }
 },
 "nbformat": 4,
 "nbformat_minor": 2
}
